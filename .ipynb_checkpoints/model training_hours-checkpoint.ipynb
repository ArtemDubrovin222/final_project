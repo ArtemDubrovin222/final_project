{
 "cells": [
  {
   "cell_type": "code",
   "execution_count": 1,
   "id": "924b212f-f147-4ba5-83df-f9792b14f658",
   "metadata": {},
   "outputs": [],
   "source": [
    "import pandas as pd\n",
    "import matplotlib.pyplot as plt\n",
    "import seaborn as sns\n",
    "from sklearn.model_selection import train_test_split\n",
    "from sklearn.linear_model import LinearRegression\n",
    "from sklearn.metrics import mean_squared_error, r2_score\n",
    "from sklearn.metrics import mean_absolute_error, mean_squared_error\n",
    "import numpy as np\n",
    "import warnings\n",
    "from sklearn.exceptions import ConvergenceWarning\n",
    "warnings.filterwarnings(\"ignore\", category=ConvergenceWarning)"
   ]
  },
  {
   "cell_type": "code",
   "execution_count": 2,
   "id": "d5f1a7d4-871a-4325-908e-fa76236cae8d",
   "metadata": {},
   "outputs": [
    {
     "data": {
      "text/html": [
       "<div>\n",
       "<style scoped>\n",
       "    .dataframe tbody tr th:only-of-type {\n",
       "        vertical-align: middle;\n",
       "    }\n",
       "\n",
       "    .dataframe tbody tr th {\n",
       "        vertical-align: top;\n",
       "    }\n",
       "\n",
       "    .dataframe thead th {\n",
       "        text-align: right;\n",
       "    }\n",
       "</style>\n",
       "<table border=\"1\" class=\"dataframe\">\n",
       "  <thead>\n",
       "    <tr style=\"text-align: right;\">\n",
       "      <th></th>\n",
       "      <th>temp</th>\n",
       "      <th>dwpt</th>\n",
       "      <th>rhum</th>\n",
       "      <th>prcp</th>\n",
       "      <th>wdir</th>\n",
       "      <th>wspd</th>\n",
       "      <th>pres</th>\n",
       "      <th>tsun</th>\n",
       "      <th>windturbines_mw</th>\n",
       "      <th>year</th>\n",
       "      <th>month</th>\n",
       "      <th>day</th>\n",
       "      <th>hour</th>\n",
       "    </tr>\n",
       "  </thead>\n",
       "  <tbody>\n",
       "    <tr>\n",
       "      <th>0</th>\n",
       "      <td>1.1</td>\n",
       "      <td>0.2</td>\n",
       "      <td>93.3</td>\n",
       "      <td>0.0</td>\n",
       "      <td>213.3</td>\n",
       "      <td>17.2</td>\n",
       "      <td>1018.8</td>\n",
       "      <td>14</td>\n",
       "      <td>18049.00</td>\n",
       "      <td>2011</td>\n",
       "      <td>1</td>\n",
       "      <td>1</td>\n",
       "      <td>0</td>\n",
       "    </tr>\n",
       "    <tr>\n",
       "      <th>1</th>\n",
       "      <td>1.2</td>\n",
       "      <td>0.3</td>\n",
       "      <td>94.0</td>\n",
       "      <td>0.0</td>\n",
       "      <td>223.3</td>\n",
       "      <td>17.7</td>\n",
       "      <td>1017.9</td>\n",
       "      <td>14</td>\n",
       "      <td>20961.00</td>\n",
       "      <td>2011</td>\n",
       "      <td>1</td>\n",
       "      <td>1</td>\n",
       "      <td>1</td>\n",
       "    </tr>\n",
       "    <tr>\n",
       "      <th>2</th>\n",
       "      <td>1.5</td>\n",
       "      <td>0.6</td>\n",
       "      <td>94.3</td>\n",
       "      <td>0.0</td>\n",
       "      <td>230.0</td>\n",
       "      <td>19.7</td>\n",
       "      <td>1017.3</td>\n",
       "      <td>14</td>\n",
       "      <td>22521.00</td>\n",
       "      <td>2011</td>\n",
       "      <td>1</td>\n",
       "      <td>1</td>\n",
       "      <td>2</td>\n",
       "    </tr>\n",
       "    <tr>\n",
       "      <th>3</th>\n",
       "      <td>1.6</td>\n",
       "      <td>0.7</td>\n",
       "      <td>93.7</td>\n",
       "      <td>0.0</td>\n",
       "      <td>220.0</td>\n",
       "      <td>20.3</td>\n",
       "      <td>1016.7</td>\n",
       "      <td>0</td>\n",
       "      <td>24071.00</td>\n",
       "      <td>2011</td>\n",
       "      <td>1</td>\n",
       "      <td>1</td>\n",
       "      <td>3</td>\n",
       "    </tr>\n",
       "    <tr>\n",
       "      <th>4</th>\n",
       "      <td>1.8</td>\n",
       "      <td>0.8</td>\n",
       "      <td>93.7</td>\n",
       "      <td>0.1</td>\n",
       "      <td>213.3</td>\n",
       "      <td>20.4</td>\n",
       "      <td>1015.7</td>\n",
       "      <td>0</td>\n",
       "      <td>25428.00</td>\n",
       "      <td>2011</td>\n",
       "      <td>1</td>\n",
       "      <td>1</td>\n",
       "      <td>4</td>\n",
       "    </tr>\n",
       "    <tr>\n",
       "      <th>...</th>\n",
       "      <td>...</td>\n",
       "      <td>...</td>\n",
       "      <td>...</td>\n",
       "      <td>...</td>\n",
       "      <td>...</td>\n",
       "      <td>...</td>\n",
       "      <td>...</td>\n",
       "      <td>...</td>\n",
       "      <td>...</td>\n",
       "      <td>...</td>\n",
       "      <td>...</td>\n",
       "      <td>...</td>\n",
       "      <td>...</td>\n",
       "    </tr>\n",
       "    <tr>\n",
       "      <th>96387</th>\n",
       "      <td>8.4</td>\n",
       "      <td>7.1</td>\n",
       "      <td>92.0</td>\n",
       "      <td>0.0</td>\n",
       "      <td>213.3</td>\n",
       "      <td>12.0</td>\n",
       "      <td>1010.0</td>\n",
       "      <td>0</td>\n",
       "      <td>25099.92</td>\n",
       "      <td>2021</td>\n",
       "      <td>12</td>\n",
       "      <td>30</td>\n",
       "      <td>3</td>\n",
       "    </tr>\n",
       "    <tr>\n",
       "      <th>96388</th>\n",
       "      <td>8.5</td>\n",
       "      <td>7.6</td>\n",
       "      <td>94.0</td>\n",
       "      <td>0.0</td>\n",
       "      <td>220.0</td>\n",
       "      <td>13.9</td>\n",
       "      <td>1010.5</td>\n",
       "      <td>0</td>\n",
       "      <td>27460.06</td>\n",
       "      <td>2021</td>\n",
       "      <td>12</td>\n",
       "      <td>30</td>\n",
       "      <td>4</td>\n",
       "    </tr>\n",
       "    <tr>\n",
       "      <th>96389</th>\n",
       "      <td>8.1</td>\n",
       "      <td>7.7</td>\n",
       "      <td>97.0</td>\n",
       "      <td>0.7</td>\n",
       "      <td>220.0</td>\n",
       "      <td>14.2</td>\n",
       "      <td>1010.9</td>\n",
       "      <td>0</td>\n",
       "      <td>31316.13</td>\n",
       "      <td>2021</td>\n",
       "      <td>12</td>\n",
       "      <td>30</td>\n",
       "      <td>5</td>\n",
       "    </tr>\n",
       "    <tr>\n",
       "      <th>96390</th>\n",
       "      <td>8.8</td>\n",
       "      <td>8.4</td>\n",
       "      <td>97.0</td>\n",
       "      <td>0.0</td>\n",
       "      <td>223.3</td>\n",
       "      <td>14.6</td>\n",
       "      <td>1011.3</td>\n",
       "      <td>0</td>\n",
       "      <td>33687.68</td>\n",
       "      <td>2021</td>\n",
       "      <td>12</td>\n",
       "      <td>30</td>\n",
       "      <td>6</td>\n",
       "    </tr>\n",
       "    <tr>\n",
       "      <th>96391</th>\n",
       "      <td>9.3</td>\n",
       "      <td>8.7</td>\n",
       "      <td>95.7</td>\n",
       "      <td>0.0</td>\n",
       "      <td>226.7</td>\n",
       "      <td>14.0</td>\n",
       "      <td>1011.8</td>\n",
       "      <td>0</td>\n",
       "      <td>33474.45</td>\n",
       "      <td>2021</td>\n",
       "      <td>12</td>\n",
       "      <td>30</td>\n",
       "      <td>7</td>\n",
       "    </tr>\n",
       "  </tbody>\n",
       "</table>\n",
       "<p>96392 rows × 13 columns</p>\n",
       "</div>"
      ],
      "text/plain": [
       "       temp  dwpt  rhum  prcp   wdir  wspd    pres  tsun  windturbines_mw  \\\n",
       "0       1.1   0.2  93.3   0.0  213.3  17.2  1018.8    14         18049.00   \n",
       "1       1.2   0.3  94.0   0.0  223.3  17.7  1017.9    14         20961.00   \n",
       "2       1.5   0.6  94.3   0.0  230.0  19.7  1017.3    14         22521.00   \n",
       "3       1.6   0.7  93.7   0.0  220.0  20.3  1016.7     0         24071.00   \n",
       "4       1.8   0.8  93.7   0.1  213.3  20.4  1015.7     0         25428.00   \n",
       "...     ...   ...   ...   ...    ...   ...     ...   ...              ...   \n",
       "96387   8.4   7.1  92.0   0.0  213.3  12.0  1010.0     0         25099.92   \n",
       "96388   8.5   7.6  94.0   0.0  220.0  13.9  1010.5     0         27460.06   \n",
       "96389   8.1   7.7  97.0   0.7  220.0  14.2  1010.9     0         31316.13   \n",
       "96390   8.8   8.4  97.0   0.0  223.3  14.6  1011.3     0         33687.68   \n",
       "96391   9.3   8.7  95.7   0.0  226.7  14.0  1011.8     0         33474.45   \n",
       "\n",
       "       year  month  day  hour  \n",
       "0      2011      1    1     0  \n",
       "1      2011      1    1     1  \n",
       "2      2011      1    1     2  \n",
       "3      2011      1    1     3  \n",
       "4      2011      1    1     4  \n",
       "...     ...    ...  ...   ...  \n",
       "96387  2021     12   30     3  \n",
       "96388  2021     12   30     4  \n",
       "96389  2021     12   30     5  \n",
       "96390  2021     12   30     6  \n",
       "96391  2021     12   30     7  \n",
       "\n",
       "[96392 rows x 13 columns]"
      ]
     },
     "execution_count": 2,
     "metadata": {},
     "output_type": "execute_result"
    }
   ],
   "source": [
    "data = pd.read_csv('data for project/test_hour_set.csv')\n",
    "data"
   ]
  },
  {
   "cell_type": "code",
   "execution_count": 3,
   "id": "b40cfdba-1e31-42f7-b544-4058ba97e709",
   "metadata": {},
   "outputs": [
    {
     "data": {
      "text/plain": [
       "temp               float64\n",
       "dwpt               float64\n",
       "rhum               float64\n",
       "prcp               float64\n",
       "wdir               float64\n",
       "wspd               float64\n",
       "pres               float64\n",
       "tsun                 int64\n",
       "windturbines_mw    float64\n",
       "year                 int64\n",
       "month                int64\n",
       "day                  int64\n",
       "hour                 int64\n",
       "dtype: object"
      ]
     },
     "execution_count": 3,
     "metadata": {},
     "output_type": "execute_result"
    }
   ],
   "source": [
    "data.dtypes"
   ]
  },
  {
   "cell_type": "code",
   "execution_count": 4,
   "id": "2541320f-9c70-4536-bdc2-d03ac2a480d7",
   "metadata": {},
   "outputs": [
    {
     "data": {
      "image/png": "[encoded data removed]",
      "text/plain": [
       "<Figure size 1000x800 with 2 Axes>"
      ]
     },
     "metadata": {},
     "output_type": "display_data"
    }
   ],
   "source": [
    "numerical_data = data.select_dtypes(include=['number'])\n",
    "\n",
    "# Calculate the correlation matrix\n",
    "correlation_matrix = numerical_data.corr()\n",
    "\n",
    "# Create a heatmap to visualize the correlation matrix\n",
    "plt.figure(figsize=(10, 8))\n",
    "sns.heatmap(correlation_matrix, annot=True, cmap='coolwarm', linewidths=0.5)\n",
    "plt.title('Correlation Matrix Heatmap')\n",
    "plt.show()"
   ]
  },
  {
   "cell_type": "code",
   "execution_count": 5,
   "id": "5c827fa8-59d3-4e5d-b802-b0a42da8b03d",
   "metadata": {},
   "outputs": [],
   "source": [
    "#As we can see there's a decent correllation between MW produced and wspd, wpgt (wind columns with values in it).\n",
    "#There's also a slight correlation between MW produced by tubines and prcp (Total Precipitation).\n",
    "#I would connect it in that case to a slighly windier weather once it rains.\n",
    "#As we can see all other values are negatively correlated, that was also expected in that case."
   ]
  },
  {
   "cell_type": "code",
   "execution_count": 6,
   "id": "387a5ad7-99ca-4ba8-9a65-a4365f327327",
   "metadata": {},
   "outputs": [],
   "source": [
    "X = numerical_data.drop(columns=['windturbines_mw'])  # Features\n",
    "y = numerical_data['windturbines_mw']  # Target variable"
   ]
  },
  {
   "cell_type": "code",
   "execution_count": 7,
   "id": "3e812667-59ae-4a48-9b36-939be689dbc3",
   "metadata": {},
   "outputs": [],
   "source": [
    "# Split the data into training and testing sets\n",
    "X_train, X_test, y_train, y_test = train_test_split(X, y, test_size=0.2, random_state=42)"
   ]
  },
  {
   "cell_type": "code",
   "execution_count": 8,
   "id": "4e281eb5-09bc-499a-a13b-2d4f769ac81e",
   "metadata": {},
   "outputs": [
    {
     "name": "stdout",
     "output_type": "stream",
     "text": [
      "LinearRegression R^2 Score: 0.3137099920647831\n",
      "MAE: 7359.46137415253, MSE: 101545362.69059043, RMSE: 10076.971900853472\n"
     ]
    }
   ],
   "source": [
    "#Starting with linearRegression\n",
    "model = LinearRegression()\n",
    "model.fit(X_train, y_train)\n",
    "y_pred = model.predict(X_test)\n",
    "r2 = r2_score(y_test, y_pred)\n",
    "print(f'LinearRegression R^2 Score: {r2}')\n",
    "\n",
    "# Evaluation\n",
    "mae = mean_absolute_error(y_test, y_pred)\n",
    "mse = mean_squared_error(y_test, y_pred)\n",
    "rmse = np.sqrt(mse)\n",
    "print(f'MAE: {mae}, MSE: {mse}, RMSE: {rmse}')"
   ]
  },
  {
   "cell_type": "code",
   "execution_count": 9,
   "id": "1558b0e6-b057-4501-8fbc-4714918d399e",
   "metadata": {},
   "outputs": [],
   "source": [
    "from sklearn.ensemble import RandomForestRegressor\n",
    "from sklearn.metrics import f1_score"
   ]
  },
  {
   "cell_type": "code",
   "execution_count": 10,
   "id": "dfd7f61e-4c16-4d96-8848-e82a388a90e4",
   "metadata": {},
   "outputs": [
    {
     "name": "stdout",
     "output_type": "stream",
     "text": [
      "RandomForest R^2 Score: 0.8787038505602076\n",
      "MAE: 2908.9909046682915, MSE: 17947312.86397872, RMSE: 4236.426898221982\n"
     ]
    }
   ],
   "source": [
    "# Initialize the Random Forest Regressor model\n",
    "model = RandomForestRegressor(n_estimators=100, random_state=42)\n",
    "# Train the model\n",
    "model.fit(X_train, y_train)\n",
    "# Make predictions on the test set\n",
    "y_pred = model.predict(X_test)\n",
    "\n",
    "#mse = mean_squared_error(y_test, y_pred)\n",
    "r2 = r2_score(y_test, y_pred)\n",
    "\n",
    "#print(f'Mean Squared Error: {mse}')\n",
    "print(f'RandomForest R^2 Score: {r2}')\n",
    "\n",
    "# Evaluation\n",
    "mae = mean_absolute_error(y_test, y_pred)\n",
    "mse = mean_squared_error(y_test, y_pred)\n",
    "rmse = np.sqrt(mse)\n",
    "print(f'MAE: {mae}, MSE: {mse}, RMSE: {rmse}')"
   ]
  },
  {
   "cell_type": "code",
   "execution_count": 11,
   "id": "44d4895e-f88d-41cb-a247-aa8f3ad1116d",
   "metadata": {},
   "outputs": [],
   "source": [
    "from sklearn.svm import SVR"
   ]
  },
  {
   "cell_type": "code",
   "execution_count": 12,
   "id": "d277b93b-d93a-4432-84ea-bf0d626eb24b",
   "metadata": {},
   "outputs": [
    {
     "name": "stdout",
     "output_type": "stream",
     "text": [
      "SVR R^2 Score: -0.10940587873307961\n",
      "MAE: 8815.418210888098, MSE: 164150754.0900376, RMSE: 12812.133081186661\n"
     ]
    }
   ],
   "source": [
    "# Initialize the SVR model\n",
    "model = SVR(kernel='rbf')\n",
    "\n",
    "# Train the model\n",
    "model.fit(X_train, y_train)\n",
    "\n",
    "# Make predictions on the test set\n",
    "y_pred = model.predict(X_test)\n",
    "\n",
    "# Evaluate the model\n",
    "#mse = mean_squared_error(y_test, y_pred)\n",
    "r2 = r2_score(y_test, y_pred)\n",
    "\n",
    "#print(f'SVR Mean Squared Error: {mse}')\n",
    "print(f'SVR R^2 Score: {r2}')\n",
    "\n",
    "# Evaluation\n",
    "mae = mean_absolute_error(y_test, y_pred)\n",
    "mse = mean_squared_error(y_test, y_pred)\n",
    "rmse = np.sqrt(mse)\n",
    "print(f'MAE: {mae}, MSE: {mse}, RMSE: {rmse}')"
   ]
  },
  {
   "cell_type": "code",
   "execution_count": 13,
   "id": "53ad32e7-bf4d-4328-88cf-c9555a6ad8c0",
   "metadata": {},
   "outputs": [],
   "source": [
    "from sklearn.ensemble import GradientBoostingRegressor"
   ]
  },
  {
   "cell_type": "code",
   "execution_count": 14,
   "id": "45a8bac2-1eeb-4a17-964c-c52cf2e4263a",
   "metadata": {},
   "outputs": [
    {
     "name": "stdout",
     "output_type": "stream",
     "text": [
      "Gradient Boosting R^2 Score: 0.5775320029407607\n",
      "MAE: 5664.332999511525, MSE: 62509530.213934444, RMSE: 7906.296871098027\n"
     ]
    }
   ],
   "source": [
    "# Initialize the Gradient Boosting Regressor model\n",
    "model = GradientBoostingRegressor(n_estimators=100, random_state=42)\n",
    "\n",
    "# Train the model\n",
    "model.fit(X_train, y_train)\n",
    "\n",
    "# Make predictions on the test set\n",
    "y_pred = model.predict(X_test)\n",
    "\n",
    "# Evaluate the model\n",
    "#mse = mean_squared_error(y_test, y_pred)\n",
    "r2 = r2_score(y_test, y_pred)\n",
    "\n",
    "#print(f'Gradient Boosting Mean Squared Error: {mse}')\n",
    "print(f'Gradient Boosting R^2 Score: {r2}')\n",
    "\n",
    "# Evaluation\n",
    "mae = mean_absolute_error(y_test, y_pred)\n",
    "mse = mean_squared_error(y_test, y_pred)\n",
    "rmse = np.sqrt(mse)\n",
    "print(f'MAE: {mae}, MSE: {mse}, RMSE: {rmse}')"
   ]
  },
  {
   "cell_type": "code",
   "execution_count": 15,
   "id": "f3f6bafe-c698-43ba-b41e-368c13ee42da",
   "metadata": {},
   "outputs": [],
   "source": [
    "from sklearn.neighbors import KNeighborsRegressor"
   ]
  },
  {
   "cell_type": "code",
   "execution_count": 16,
   "id": "590dc84d-71a6-45ea-8935-a85871480a50",
   "metadata": {},
   "outputs": [
    {
     "name": "stdout",
     "output_type": "stream",
     "text": [
      "KNN R^2 Score: 0.5810244624239387\n",
      "MAE: 5401.222575029825, MSE: 61992776.27492768, RMSE: 7873.549153649051\n"
     ]
    }
   ],
   "source": [
    "# Initialize the K-Nearest Neighbors Regressor model\n",
    "model = KNeighborsRegressor(n_neighbors=5)\n",
    "\n",
    "# Train the model\n",
    "model.fit(X_train, y_train)\n",
    "\n",
    "# Make predictions on the test set\n",
    "y_pred = model.predict(X_test)\n",
    "\n",
    "# Evaluate the model\n",
    "#mse = mean_squared_error(y_test, y_pred)\n",
    "r2 = r2_score(y_test, y_pred)\n",
    "\n",
    "#print(f'KNN Mean Squared Error: {mse}')\n",
    "print(f'KNN R^2 Score: {r2}')\n",
    "\n",
    "# Evaluation\n",
    "mae = mean_absolute_error(y_test, y_pred)\n",
    "mse = mean_squared_error(y_test, y_pred)\n",
    "rmse = np.sqrt(mse)\n",
    "print(f'MAE: {mae}, MSE: {mse}, RMSE: {rmse}')"
   ]
  },
  {
   "cell_type": "code",
   "execution_count": 17,
   "id": "619ef8aa-6312-4de8-9dbb-014dcc360d8c",
   "metadata": {},
   "outputs": [],
   "source": [
    "from sklearn.tree import DecisionTreeRegressor"
   ]
  },
  {
   "cell_type": "code",
   "execution_count": 18,
   "id": "b25b9ad9-27bb-47b5-8775-9a2233407fe6",
   "metadata": {},
   "outputs": [
    {
     "name": "stdout",
     "output_type": "stream",
     "text": [
      "Decision Tree R^2 Score: 0.7316100167585091\n",
      "MAE: 3700.841501115203, MSE: 39711722.268512666, RMSE: 6301.723753744896\n"
     ]
    }
   ],
   "source": [
    "# Initialize the Decision Tree Regressor model\n",
    "model = DecisionTreeRegressor(random_state=42)\n",
    "\n",
    "# Train the model\n",
    "model.fit(X_train, y_train)\n",
    "\n",
    "# Make predictions on the test set\n",
    "y_pred = model.predict(X_test)\n",
    "\n",
    "# Evaluate the model\n",
    "#mse = mean_squared_error(y_test, y_pred)\n",
    "r2 = r2_score(y_test, y_pred)\n",
    "\n",
    "#print(f'Decision Tree Mean Squared Error: {mse}')\n",
    "print(f'Decision Tree R^2 Score: {r2}')\n",
    "\n",
    "# Evaluation\n",
    "mae = mean_absolute_error(y_test, y_pred)\n",
    "mse = mean_squared_error(y_test, y_pred)\n",
    "rmse = np.sqrt(mse)\n",
    "print(f'MAE: {mae}, MSE: {mse}, RMSE: {rmse}')"
   ]
  },
  {
   "cell_type": "code",
   "execution_count": 19,
   "id": "2b49efe5-8fd9-49bf-ae98-921a99373fcc",
   "metadata": {},
   "outputs": [],
   "source": [
    "from sklearn.linear_model import Ridge"
   ]
  },
  {
   "cell_type": "code",
   "execution_count": 20,
   "id": "8b6002cd-5ac6-4661-884e-cdc4c29c95a2",
   "metadata": {},
   "outputs": [
    {
     "name": "stdout",
     "output_type": "stream",
     "text": [
      "Ridge R^2 Score: 0.3137100031933966\n",
      "MAE: 7359.461448730508, MSE: 101545361.04397008, RMSE: 10076.971819151331\n"
     ]
    }
   ],
   "source": [
    "# Initialize the Ridge Regression model\n",
    "model = Ridge(alpha=1.0)\n",
    "\n",
    "# Train the model\n",
    "model.fit(X_train, y_train)\n",
    "\n",
    "# Make predictions on the test set\n",
    "y_pred = model.predict(X_test)\n",
    "\n",
    "# Evaluate the model\n",
    "#mse = mean_squared_error(y_test, y_pred)\n",
    "r2 = r2_score(y_test, y_pred)\n",
    "\n",
    "#print(f'Ridge Mean Squared Error: {mse}')\n",
    "print(f'Ridge R^2 Score: {r2}')\n",
    "\n",
    "# Evaluation\n",
    "mae = mean_absolute_error(y_test, y_pred)\n",
    "mse = mean_squared_error(y_test, y_pred)\n",
    "rmse = np.sqrt(mse)\n",
    "print(f'MAE: {mae}, MSE: {mse}, RMSE: {rmse}')"
   ]
  },
  {
   "cell_type": "code",
   "execution_count": 21,
   "id": "980840d0-e9e5-42e6-bba1-387dc54b1409",
   "metadata": {},
   "outputs": [],
   "source": [
    "from sklearn.linear_model import Lasso"
   ]
  },
  {
   "cell_type": "code",
   "execution_count": 22,
   "id": "452bafed-749e-49cd-85ca-11b188b8517d",
   "metadata": {},
   "outputs": [
    {
     "name": "stdout",
     "output_type": "stream",
     "text": [
      "Lasso R^2 Score: 0.3137103168542388\n",
      "MAE: 7359.4606072690385, MSE: 101545314.63384664, RMSE: 10076.969516369822\n"
     ]
    }
   ],
   "source": [
    "# Initialize the Lasso Regression model\n",
    "model = Lasso(alpha=0.1)\n",
    "\n",
    "# Train the model\n",
    "model.fit(X_train, y_train)\n",
    "\n",
    "# Make predictions on the test set\n",
    "y_pred = model.predict(X_test)\n",
    "\n",
    "# Evaluate the model\n",
    "#mse = mean_squared_error(y_test, y_pred)\n",
    "r2 = r2_score(y_test, y_pred)\n",
    "\n",
    "#print(f'Lasso Mean Squared Error: {mse}')\n",
    "print(f'Lasso R^2 Score: {r2}')\n",
    "\n",
    "# Evaluation\n",
    "mae = mean_absolute_error(y_test, y_pred)\n",
    "mse = mean_squared_error(y_test, y_pred)\n",
    "rmse = np.sqrt(mse)\n",
    "print(f'MAE: {mae}, MSE: {mse}, RMSE: {rmse}')"
   ]
  },
  {
   "cell_type": "code",
   "execution_count": 23,
   "id": "834cd05a-3181-42a0-871d-c39e490847a7",
   "metadata": {},
   "outputs": [],
   "source": [
    "from sklearn.linear_model import ElasticNet"
   ]
  },
  {
   "cell_type": "code",
   "execution_count": 24,
   "id": "179fc739-2336-4eb4-ac99-f89de312c379",
   "metadata": {},
   "outputs": [
    {
     "name": "stdout",
     "output_type": "stream",
     "text": [
      "Elastic Net R^2 Score: 0.31339169482392426\n",
      "MAE: 7365.828342476088, MSE: 101592458.82836412, RMSE: 10079.308449906874\n"
     ]
    }
   ],
   "source": [
    "# Initialize the Elastic Net Regression model\n",
    "model = ElasticNet(alpha=1.0, l1_ratio=0.5)\n",
    "\n",
    "# Train the model\n",
    "model.fit(X_train, y_train)\n",
    "\n",
    "# Make predictions on the test set\n",
    "y_pred = model.predict(X_test)\n",
    "\n",
    "# Evaluate the model\n",
    "#mse = mean_squared_error(y_test, y_pred)\n",
    "r2 = r2_score(y_test, y_pred)\n",
    "\n",
    "#print(f'Elastic Net Mean Squared Error: {mse}')\n",
    "print(f'Elastic Net R^2 Score: {r2}')\n",
    "\n",
    "# Evaluation\n",
    "mae = mean_absolute_error(y_test, y_pred)\n",
    "mse = mean_squared_error(y_test, y_pred)\n",
    "rmse = np.sqrt(mse)\n",
    "print(f'MAE: {mae}, MSE: {mse}, RMSE: {rmse}')"
   ]
  },
  {
   "cell_type": "code",
   "execution_count": 25,
   "id": "fcef68b8-5519-41c0-923e-f3eb6b854de0",
   "metadata": {},
   "outputs": [],
   "source": [
    "from sklearn.ensemble import AdaBoostRegressor"
   ]
  },
  {
   "cell_type": "code",
   "execution_count": 26,
   "id": "830697b1-1f25-4258-97e2-592731163181",
   "metadata": {},
   "outputs": [
    {
     "name": "stdout",
     "output_type": "stream",
     "text": [
      "AdaBoost R^2 Score: 0.18562100765760825\n",
      "MAE: 9343.560860894891, MSE: 120497762.15423487, RMSE: 10977.147268495348\n"
     ]
    }
   ],
   "source": [
    "# Initialize the AdaBoost Regressor model\n",
    "model = AdaBoostRegressor(n_estimators=100, random_state=42)\n",
    "\n",
    "# Train the model\n",
    "model.fit(X_train, y_train)\n",
    "\n",
    "# Make predictions on the test set\n",
    "y_pred = model.predict(X_test)\n",
    "\n",
    "# Evaluate the model\n",
    "#mse = mean_squared_error(y_test, y_pred)\n",
    "r2 = r2_score(y_test, y_pred)\n",
    "\n",
    "#print(f'AdaBoost Mean Squared Error: {mse}')\n",
    "print(f'AdaBoost R^2 Score: {r2}')\n",
    "\n",
    "# Evaluation\n",
    "mae = mean_absolute_error(y_test, y_pred)\n",
    "mse = mean_squared_error(y_test, y_pred)\n",
    "rmse = np.sqrt(mse)\n",
    "print(f'MAE: {mae}, MSE: {mse}, RMSE: {rmse}')"
   ]
  },
  {
   "cell_type": "code",
   "execution_count": 27,
   "id": "8fba65ca-f9b6-43df-9e8d-ce3d8c0e58d5",
   "metadata": {},
   "outputs": [],
   "source": [
    "from xgboost import XGBRegressor"
   ]
  },
  {
   "cell_type": "code",
   "execution_count": 28,
   "id": "76298bf5-e7b7-4e97-8fa1-c9ca60198060",
   "metadata": {},
   "outputs": [
    {
     "name": "stdout",
     "output_type": "stream",
     "text": [
      "XGBoost R^2 Score: 0.7729291722301139\n",
      "MAE: 4171.88053259474, MSE: 33598026.0469161, RMSE: 5796.380426345057\n"
     ]
    }
   ],
   "source": [
    "# Initialize the XGBoost Regressor model\n",
    "model = XGBRegressor(n_estimators=100, random_state=42)\n",
    "\n",
    "# Train the model\n",
    "model.fit(X_train, y_train)\n",
    "\n",
    "# Make predictions on the test set\n",
    "y_pred = model.predict(X_test)\n",
    "\n",
    "# Evaluate the model\n",
    "#mse = mean_squared_error(y_test, y_pred)\n",
    "r2 = r2_score(y_test, y_pred)\n",
    "\n",
    "#print(f'XGBoost Mean Squared Error: {mse}')\n",
    "print(f'XGBoost R^2 Score: {r2}')\n",
    "\n",
    "# Evaluation\n",
    "mae = mean_absolute_error(y_test, y_pred)\n",
    "mse = mean_squared_error(y_test, y_pred)\n",
    "rmse = np.sqrt(mse)\n",
    "print(f'MAE: {mae}, MSE: {mse}, RMSE: {rmse}')"
   ]
  },
  {
   "cell_type": "code",
   "execution_count": 29,
   "id": "43cad225-ca5b-46d8-9977-5dfd8ff7f978",
   "metadata": {},
   "outputs": [],
   "source": [
    "from sklearn.ensemble import BaggingRegressor"
   ]
  },
  {
   "cell_type": "code",
   "execution_count": 30,
   "id": "e8ef6a88-ff30-4cfc-9511-dc3553022156",
   "metadata": {},
   "outputs": [
    {
     "name": "stderr",
     "output_type": "stream",
     "text": [
      "C:\\Users\\lilly\\anaconda3\\Lib\\site-packages\\sklearn\\ensemble\\_base.py:166: FutureWarning: `base_estimator` was renamed to `estimator` in version 1.2 and will be removed in 1.4.\n",
      "  warnings.warn(\n"
     ]
    },
    {
     "name": "stdout",
     "output_type": "stream",
     "text": [
      "BaggingRegressor R^2 Score: 0.8787821895139959\n",
      "MAE: 2904.9344043311376, MSE: 17935721.616279855, RMSE: 4235.058631976641\n"
     ]
    }
   ],
   "source": [
    "# Initialize the base estimator\n",
    "base_estimator = DecisionTreeRegressor()\n",
    "\n",
    "# Initialize the Bagging Regressor with the base estimator\n",
    "bagging_model = BaggingRegressor(base_estimator=base_estimator, n_estimators=100, random_state=42)\n",
    "\n",
    "# Train the model\n",
    "bagging_model.fit(X_train, y_train)\n",
    "\n",
    "# Prediction\n",
    "y_pred = bagging_model.predict(X_test)\n",
    "\n",
    "r2 = r2_score(y_test, y_pred)\n",
    "\n",
    "print(f'BaggingRegressor R^2 Score: {r2}')\n",
    "# Evaluation\n",
    "mae = mean_absolute_error(y_test, y_pred)\n",
    "mse = mean_squared_error(y_test, y_pred)\n",
    "rmse = np.sqrt(mse)\n",
    "print(f'MAE: {mae}, MSE: {mse}, RMSE: {rmse}')"
   ]
  },
  {
   "cell_type": "code",
   "execution_count": 31,
   "id": "6e6bd96d-88f9-418b-a921-ca46fa88c474",
   "metadata": {},
   "outputs": [],
   "source": [
    "from lightgbm import LGBMRegressor"
   ]
  },
  {
   "cell_type": "code",
   "execution_count": 32,
   "id": "dde1965c-859c-4bdf-acf4-902077acb9ab",
   "metadata": {},
   "outputs": [
    {
     "name": "stdout",
     "output_type": "stream",
     "text": [
      "[LightGBM] [Info] Auto-choosing col-wise multi-threading, the overhead of testing was 0.007593 seconds.\n",
      "You can set `force_col_wise=true` to remove the overhead.\n",
      "[LightGBM] [Info] Total Bins 1535\n",
      "[LightGBM] [Info] Number of data points in the train set: 77113, number of used features: 12\n",
      "[LightGBM] [Info] Start training from score 12735.717394\n",
      "LightGBM R^2 Score: 0.6953887174435518\n",
      "MAE: 4851.45345342408, MSE: 45071125.63084309, RMSE: 6713.503230865617\n"
     ]
    }
   ],
   "source": [
    "# Initialize the LightGBM Regressor model\n",
    "model = LGBMRegressor(random_state=42)\n",
    "\n",
    "# Train the model\n",
    "model.fit(X_train, y_train)\n",
    "\n",
    "# Make predictions on the test set\n",
    "y_pred = model.predict(X_test)\n",
    "\n",
    "# Evaluate the model\n",
    "#mse = mean_squared_error(y_test, y_pred)\n",
    "r2 = r2_score(y_test, y_pred)\n",
    "\n",
    "#print(f'LightGBM Mean Squared Error: {mse}')\n",
    "print(f'LightGBM R^2 Score: {r2}')\n",
    "\n",
    "# Evaluation\n",
    "mae = mean_absolute_error(y_test, y_pred)\n",
    "mse = mean_squared_error(y_test, y_pred)\n",
    "rmse = np.sqrt(mse)\n",
    "print(f'MAE: {mae}, MSE: {mse}, RMSE: {rmse}')"
   ]
  },
  {
   "cell_type": "code",
   "execution_count": 33,
   "id": "3660f424-2412-4b56-a635-47a53af44c21",
   "metadata": {},
   "outputs": [],
   "source": [
    "from catboost import CatBoostRegressor"
   ]
  },
  {
   "cell_type": "code",
   "execution_count": 34,
   "id": "e9373c61-9d90-423a-8678-8d0ec9c7b89e",
   "metadata": {},
   "outputs": [
    {
     "name": "stdout",
     "output_type": "stream",
     "text": [
      "CatBoost R^2 Score: 0.7636327724507594\n",
      "MAE: 4253.284566983071, MSE: 34973547.00219189, RMSE: 5913.843674142215\n"
     ]
    }
   ],
   "source": [
    "# Initialize the CatBoost Regressor model\n",
    "model = CatBoostRegressor(random_state=42, verbose=0)\n",
    "\n",
    "# Train the model\n",
    "model.fit(X_train, y_train)\n",
    "\n",
    "# Make predictions on the test set\n",
    "y_pred = model.predict(X_test)\n",
    "\n",
    "# Evaluate the model\n",
    "#mse = mean_squared_error(y_test, y_pred)\n",
    "r2 = r2_score(y_test, y_pred)\n",
    "\n",
    "#print(f'CatBoost Mean Squared Error: {mse}')\n",
    "print(f'CatBoost R^2 Score: {r2}')\n",
    "\n",
    "\n",
    "# Evaluation\n",
    "mae = mean_absolute_error(y_test, y_pred)\n",
    "mse = mean_squared_error(y_test, y_pred)\n",
    "rmse = np.sqrt(mse)\n",
    "print(f'MAE: {mae}, MSE: {mse}, RMSE: {rmse}')"
   ]
  },
  {
   "cell_type": "code",
   "execution_count": 35,
   "id": "0de75c01-9b0a-4efb-b6d9-0fbf341d00dc",
   "metadata": {},
   "outputs": [],
   "source": [
    "from sklearn.neural_network import MLPRegressor"
   ]
  },
  {
   "cell_type": "code",
   "execution_count": 36,
   "id": "ba7b6b79-846c-4085-af64-2f674cc45041",
   "metadata": {},
   "outputs": [
    {
     "name": "stdout",
     "output_type": "stream",
     "text": [
      "MLPRegressor R^2 Score: 0.3412723684239384\n",
      "MAE: 7222.045879172266, MSE: 97467157.45425661, RMSE: 9872.54564204474\n"
     ]
    }
   ],
   "source": [
    "# Initialize the MLPRegressor model\n",
    "model = MLPRegressor(hidden_layer_sizes=(100,), max_iter=1000, random_state=42)\n",
    "\n",
    "# Train the model\n",
    "model.fit(X_train, y_train)\n",
    "\n",
    "# Make predictions on the test set\n",
    "y_pred = model.predict(X_test)\n",
    "\n",
    "# Evaluate the model\n",
    "#mse = mean_squared_error(y_test, y_pred)\n",
    "r2 = r2_score(y_test, y_pred)\n",
    "\n",
    "#print(f'MLPRegressor Mean Squared Error: {mse}')\n",
    "print(f'MLPRegressor R^2 Score: {r2}')\n",
    "\n",
    "# Evaluation\n",
    "mae = mean_absolute_error(y_test, y_pred)\n",
    "mse = mean_squared_error(y_test, y_pred)\n",
    "rmse = np.sqrt(mse)\n",
    "print(f'MAE: {mae}, MSE: {mse}, RMSE: {rmse}')"
   ]
  },
  {
   "cell_type": "code",
   "execution_count": 39,
   "id": "3e76add8-fe80-400a-9da9-8a518f827c92",
   "metadata": {},
   "outputs": [],
   "source": [
    "from sklearn.linear_model import BayesianRidge"
   ]
  },
  {
   "cell_type": "code",
   "execution_count": 40,
   "id": "d0741c17-ef74-4f10-956a-8ce678eb1f29",
   "metadata": {},
   "outputs": [
    {
     "name": "stdout",
     "output_type": "stream",
     "text": [
      "Bayesian Ridge R^2 Score: 0.3137148864422121\n",
      "MAE: 7359.501497853252, MSE: 101544638.50500499, RMSE: 10076.935968090946\n"
     ]
    }
   ],
   "source": [
    "# Initialize the Bayesian Ridge Regression model\n",
    "model = BayesianRidge()\n",
    "\n",
    "# Train the model\n",
    "model.fit(X_train, y_train)\n",
    "\n",
    "# Make predictions on the test set\n",
    "y_pred = model.predict(X_test)\n",
    "\n",
    "# Evaluate the model\n",
    "#mse = mean_squared_error(y_test, y_pred)\n",
    "r2 = r2_score(y_test, y_pred)\n",
    "\n",
    "#print(f'Bayesian Ridge Mean Squared Error: {mse}')\n",
    "print(f'Bayesian Ridge R^2 Score: {r2}')\n",
    "\n",
    "# Evaluation\n",
    "mae = mean_absolute_error(y_test, y_pred)\n",
    "mse = mean_squared_error(y_test, y_pred)\n",
    "rmse = np.sqrt(mse)\n",
    "print(f'MAE: {mae}, MSE: {mse}, RMSE: {rmse}')"
   ]
  },
  {
   "cell_type": "code",
   "execution_count": 41,
   "id": "b5e678b6-4bbc-495b-a6dc-7a950295a64e",
   "metadata": {},
   "outputs": [
    {
     "name": "stdout",
     "output_type": "stream",
     "text": [
      "Gradient Boosting R^2 Score: 0.5775320029407607\n",
      "MAE: 5664.332999511525, MSE: 62509530.213934444, RMSE: 7906.296871098027\n"
     ]
    }
   ],
   "source": [
    "# Initialize the Gradient Boosting Regressor model\n",
    "model = GradientBoostingRegressor(n_estimators=100, random_state=42)\n",
    "\n",
    "# Train the model\n",
    "model.fit(X_train, y_train)\n",
    "\n",
    "# Make predictions on the test set\n",
    "y_pred = model.predict(X_test)\n",
    "\n",
    "# Evaluate the model\n",
    "#mse = mean_squared_error(y_test, y_pred)\n",
    "r2 = r2_score(y_test, y_pred)\n",
    "\n",
    "#print(f'Gradient Boosting Mean Squared Error: {mse}')\n",
    "print(f'Gradient Boosting R^2 Score: {r2}')\n",
    "\n",
    "# Evaluation\n",
    "mae = mean_absolute_error(y_test, y_pred)\n",
    "mse = mean_squared_error(y_test, y_pred)\n",
    "rmse = np.sqrt(mse)\n",
    "print(f'MAE: {mae}, MSE: {mse}, RMSE: {rmse}')"
   ]
  },
  {
   "cell_type": "code",
   "execution_count": 51,
   "id": "18794baa-c109-4f58-88ce-70767916e733",
   "metadata": {},
   "outputs": [
    {
     "data": {
      "text/html": [
       "<div>\n",
       "<style scoped>\n",
       "    .dataframe tbody tr th:only-of-type {\n",
       "        vertical-align: middle;\n",
       "    }\n",
       "\n",
       "    .dataframe tbody tr th {\n",
       "        vertical-align: top;\n",
       "    }\n",
       "\n",
       "    .dataframe thead th {\n",
       "        text-align: right;\n",
       "    }\n",
       "</style>\n",
       "<table border=\"1\" class=\"dataframe\">\n",
       "  <thead>\n",
       "    <tr style=\"text-align: right;\">\n",
       "      <th></th>\n",
       "      <th>Model</th>\n",
       "      <th>R2 Score</th>\n",
       "      <th>MAE</th>\n",
       "      <th>MSE</th>\n",
       "      <th>RMSE</th>\n",
       "    </tr>\n",
       "  </thead>\n",
       "  <tbody>\n",
       "    <tr>\n",
       "      <th>0</th>\n",
       "      <td>LinearRegression</td>\n",
       "      <td>0.313710</td>\n",
       "      <td>7359.461374</td>\n",
       "      <td>1.015454e+08</td>\n",
       "      <td>10076.971901</td>\n",
       "    </tr>\n",
       "    <tr>\n",
       "      <th>1</th>\n",
       "      <td>RandomForest</td>\n",
       "      <td>0.878704</td>\n",
       "      <td>2908.990905</td>\n",
       "      <td>1.794731e+07</td>\n",
       "      <td>4236.426898</td>\n",
       "    </tr>\n",
       "    <tr>\n",
       "      <th>2</th>\n",
       "      <td>SVR</td>\n",
       "      <td>-0.109406</td>\n",
       "      <td>8815.418211</td>\n",
       "      <td>1.641508e+08</td>\n",
       "      <td>12812.133081</td>\n",
       "    </tr>\n",
       "    <tr>\n",
       "      <th>3</th>\n",
       "      <td>Gradient Boosting</td>\n",
       "      <td>0.577532</td>\n",
       "      <td>5664.333000</td>\n",
       "      <td>6.250953e+07</td>\n",
       "      <td>7906.296871</td>\n",
       "    </tr>\n",
       "    <tr>\n",
       "      <th>4</th>\n",
       "      <td>KNN</td>\n",
       "      <td>0.581024</td>\n",
       "      <td>5401.222575</td>\n",
       "      <td>6.199278e+07</td>\n",
       "      <td>7873.549154</td>\n",
       "    </tr>\n",
       "    <tr>\n",
       "      <th>5</th>\n",
       "      <td>Decision Tree</td>\n",
       "      <td>0.731610</td>\n",
       "      <td>3700.841501</td>\n",
       "      <td>3.971172e+07</td>\n",
       "      <td>6301.723754</td>\n",
       "    </tr>\n",
       "    <tr>\n",
       "      <th>6</th>\n",
       "      <td>Ridge</td>\n",
       "      <td>0.313710</td>\n",
       "      <td>7359.461449</td>\n",
       "      <td>1.015454e+08</td>\n",
       "      <td>10076.971819</td>\n",
       "    </tr>\n",
       "    <tr>\n",
       "      <th>7</th>\n",
       "      <td>Lasso</td>\n",
       "      <td>0.313710</td>\n",
       "      <td>7359.460607</td>\n",
       "      <td>1.015453e+08</td>\n",
       "      <td>10076.969516</td>\n",
       "    </tr>\n",
       "    <tr>\n",
       "      <th>8</th>\n",
       "      <td>Elastic Net</td>\n",
       "      <td>0.313392</td>\n",
       "      <td>7365.828342</td>\n",
       "      <td>1.015925e+08</td>\n",
       "      <td>10079.308450</td>\n",
       "    </tr>\n",
       "    <tr>\n",
       "      <th>9</th>\n",
       "      <td>AdaBoost</td>\n",
       "      <td>0.185621</td>\n",
       "      <td>9343.560861</td>\n",
       "      <td>1.204978e+08</td>\n",
       "      <td>10977.147268</td>\n",
       "    </tr>\n",
       "    <tr>\n",
       "      <th>10</th>\n",
       "      <td>XGBoost</td>\n",
       "      <td>0.772929</td>\n",
       "      <td>4171.880533</td>\n",
       "      <td>3.359803e+07</td>\n",
       "      <td>5796.380426</td>\n",
       "    </tr>\n",
       "    <tr>\n",
       "      <th>11</th>\n",
       "      <td>BaggingRegressor</td>\n",
       "      <td>0.878782</td>\n",
       "      <td>2904.934404</td>\n",
       "      <td>1.793572e+07</td>\n",
       "      <td>4235.058632</td>\n",
       "    </tr>\n",
       "    <tr>\n",
       "      <th>12</th>\n",
       "      <td>LightGBM</td>\n",
       "      <td>0.695389</td>\n",
       "      <td>4851.453453</td>\n",
       "      <td>4.507113e+07</td>\n",
       "      <td>6713.503231</td>\n",
       "    </tr>\n",
       "    <tr>\n",
       "      <th>13</th>\n",
       "      <td>CatBoost</td>\n",
       "      <td>0.763633</td>\n",
       "      <td>4253.284567</td>\n",
       "      <td>3.497355e+07</td>\n",
       "      <td>5913.843674</td>\n",
       "    </tr>\n",
       "    <tr>\n",
       "      <th>14</th>\n",
       "      <td>MLPRegressor</td>\n",
       "      <td>0.341272</td>\n",
       "      <td>7222.045879</td>\n",
       "      <td>9.746716e+07</td>\n",
       "      <td>9872.545642</td>\n",
       "    </tr>\n",
       "    <tr>\n",
       "      <th>15</th>\n",
       "      <td>Bayesian Ridge</td>\n",
       "      <td>0.313715</td>\n",
       "      <td>7359.501498</td>\n",
       "      <td>1.015446e+08</td>\n",
       "      <td>10076.935968</td>\n",
       "    </tr>\n",
       "  </tbody>\n",
       "</table>\n",
       "</div>"
      ],
      "text/plain": [
       "                Model  R2 Score          MAE           MSE          RMSE\n",
       "0    LinearRegression  0.313710  7359.461374  1.015454e+08  10076.971901\n",
       "1        RandomForest  0.878704  2908.990905  1.794731e+07   4236.426898\n",
       "2                 SVR -0.109406  8815.418211  1.641508e+08  12812.133081\n",
       "3   Gradient Boosting  0.577532  5664.333000  6.250953e+07   7906.296871\n",
       "4                 KNN  0.581024  5401.222575  6.199278e+07   7873.549154\n",
       "5       Decision Tree  0.731610  3700.841501  3.971172e+07   6301.723754\n",
       "6               Ridge  0.313710  7359.461449  1.015454e+08  10076.971819\n",
       "7               Lasso  0.313710  7359.460607  1.015453e+08  10076.969516\n",
       "8         Elastic Net  0.313392  7365.828342  1.015925e+08  10079.308450\n",
       "9            AdaBoost  0.185621  9343.560861  1.204978e+08  10977.147268\n",
       "10            XGBoost  0.772929  4171.880533  3.359803e+07   5796.380426\n",
       "11   BaggingRegressor  0.878782  2904.934404  1.793572e+07   4235.058632\n",
       "12           LightGBM  0.695389  4851.453453  4.507113e+07   6713.503231\n",
       "13           CatBoost  0.763633  4253.284567  3.497355e+07   5913.843674\n",
       "14       MLPRegressor  0.341272  7222.045879  9.746716e+07   9872.545642\n",
       "15     Bayesian Ridge  0.313715  7359.501498  1.015446e+08  10076.935968"
      ]
     },
     "execution_count": 51,
     "metadata": {},
     "output_type": "execute_result"
    }
   ],
   "source": [
    "model = [\n",
    "    [\"LinearRegression\", 0.3137099920647831, 7359.46137415253, 101545362.69059043, 10076.971900853472],\n",
    "    [\"RandomForest\", 0.8787038505602076, 2908.9909046682915, 17947312.86397872, 4236.426898221982],\n",
    "    [\"SVR\", -0.10940587873307961, 8815.418210888098, 164150754.0900376, 12812.133081186661],\n",
    "    [\"Gradient Boosting\", 0.5775320029407607, 5664.332999511525, 62509530.213934444, 7906.296871098027],\n",
    "    [\"KNN\", 0.5810244624239387, 5401.222575029825, 61992776.27492768, 7873.549153649051],\n",
    "    [\"Decision Tree\", 0.7316100167585091, 3700.841501115203, 39711722.268512666, 6301.723753744896],\n",
    "    [\"Ridge\", 0.3137100031933966, 7359.461448730508, 101545361.04397008, 10076.971819151331],\n",
    "    [\"Lasso\", 0.3137103168542388, 7359.4606072690385, 101545314.63384664, 10076.969516369822],\n",
    "    [\"Elastic Net\", 0.31339169482392426, 7365.828342476088, 101592458.82836412, 10079.308449906874],\n",
    "    [\"AdaBoost\", 0.18562100765760825, 9343.560860894891, 120497762.15423487, 10977.147268495348],\n",
    "    [\"XGBoost\", 0.7729291722301139, 4171.88053259474, 33598026.0469161, 5796.380426345057],\n",
    "    [\"BaggingRegressor\", 0.8787821895139959, 2904.9344043311376, 17935721.616279855, 4235.058631976641],\n",
    "    [\"LightGBM\", 0.6953887174435518, 4851.45345342408, 45071125.63084309, 6713.503230865617],\n",
    "    [\"CatBoost\", 0.7636327724507594, 4253.284566983071, 34973547.00219189, 5913.843674142215],\n",
    "    [\"MLPRegressor\", 0.3412723684239384, 7222.045879172266, 97467157.45425661, 9872.54564204474],\n",
    "    [\"Bayesian Ridge\", 0.3137148864422121, 7359.501497853252, 101544638.50500499, 10076.935968090946]\n",
    "]\n",
    "\n",
    "df = pd.DataFrame(model, columns=[\"Model\", \"R2 Score\", \"MAE\", \"MSE\", \"RMSE\"])\n",
    "\n",
    "df"
   ]
  },
  {
   "cell_type": "code",
   "execution_count": 53,
   "id": "ac870e96-ea6f-4d92-9c8c-c68eda4be855",
   "metadata": {},
   "outputs": [],
   "source": [
    "#df.to_csv('data for project/model_hours_results.csv', index=False)"
   ]
  },
  {
   "cell_type": "code",
   "execution_count": null,
   "id": "b2a99ac7-12b5-4006-a2d5-cf3c13a59109",
   "metadata": {},
   "outputs": [],
   "source": []
  }
 ],
 "metadata": {
  "kernelspec": {
   "display_name": "Python 3 (ipykernel)",
   "language": "python",
   "name": "python3"
  },
  "language_info": {
   "codemirror_mode": {
    "name": "ipython",
    "version": 3
   },
   "file_extension": ".py",
   "mimetype": "text/x-python",
   "name": "python",
   "nbconvert_exporter": "python",
   "pygments_lexer": "ipython3",
   "version": "3.11.7"
  }
 },
 "nbformat": 4,
 "nbformat_minor": 5
}
