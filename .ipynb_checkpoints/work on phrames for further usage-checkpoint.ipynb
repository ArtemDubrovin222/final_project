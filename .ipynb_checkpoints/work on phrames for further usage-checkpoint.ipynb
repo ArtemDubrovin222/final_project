{
 "cells": [
  {
   "cell_type": "code",
   "execution_count": 1,
   "id": "7aa352fc-200f-4fe6-845d-737d28a90f91",
   "metadata": {},
   "outputs": [],
   "source": [
    "import pandas as pd"
   ]
  },
  {
   "cell_type": "code",
   "execution_count": 2,
   "id": "f1624bb0-9c00-437c-a709-36d249cdcc06",
   "metadata": {},
   "outputs": [],
   "source": [
    "#I will use a dataframe for wind turbines. The dataframe is simple in that case and contains 2 columns. \n",
    "#dt=dates with 15 minutes of interwal and MW=megawats gotten for this time.\n",
    "#The idea is to research it and combine with data of weather"
   ]
  },
  {
   "cell_type": "code",
   "execution_count": 3,
   "id": "1276306b-ab5c-436b-9a25-324ebd9522ac",
   "metadata": {},
   "outputs": [
    {
     "data": {
      "text/html": [
       "<div>\n",
       "<style scoped>\n",
       "    .dataframe tbody tr th:only-of-type {\n",
       "        vertical-align: middle;\n",
       "    }\n",
       "\n",
       "    .dataframe tbody tr th {\n",
       "        vertical-align: top;\n",
       "    }\n",
       "\n",
       "    .dataframe thead th {\n",
       "        text-align: right;\n",
       "    }\n",
       "</style>\n",
       "<table border=\"1\" class=\"dataframe\">\n",
       "  <thead>\n",
       "    <tr style=\"text-align: right;\">\n",
       "      <th></th>\n",
       "      <th>dt</th>\n",
       "      <th>MW</th>\n",
       "    </tr>\n",
       "  </thead>\n",
       "  <tbody>\n",
       "    <tr>\n",
       "      <th>0</th>\n",
       "      <td>2011-01-01 00:00:00</td>\n",
       "      <td>3416.00</td>\n",
       "    </tr>\n",
       "    <tr>\n",
       "      <th>1</th>\n",
       "      <td>2011-01-01 00:15:00</td>\n",
       "      <td>4755.00</td>\n",
       "    </tr>\n",
       "    <tr>\n",
       "      <th>2</th>\n",
       "      <td>2011-01-01 00:30:00</td>\n",
       "      <td>4939.00</td>\n",
       "    </tr>\n",
       "    <tr>\n",
       "      <th>3</th>\n",
       "      <td>2011-01-01 00:45:00</td>\n",
       "      <td>4939.00</td>\n",
       "    </tr>\n",
       "    <tr>\n",
       "      <th>4</th>\n",
       "      <td>2011-01-01 01:00:00</td>\n",
       "      <td>4998.00</td>\n",
       "    </tr>\n",
       "    <tr>\n",
       "      <th>...</th>\n",
       "      <td>...</td>\n",
       "      <td>...</td>\n",
       "    </tr>\n",
       "    <tr>\n",
       "      <th>385561</th>\n",
       "      <td>2021-12-30 06:45:00</td>\n",
       "      <td>8140.31</td>\n",
       "    </tr>\n",
       "    <tr>\n",
       "      <th>385562</th>\n",
       "      <td>2021-12-30 07:00:00</td>\n",
       "      <td>8162.33</td>\n",
       "    </tr>\n",
       "    <tr>\n",
       "      <th>385563</th>\n",
       "      <td>2021-12-30 07:15:00</td>\n",
       "      <td>8405.11</td>\n",
       "    </tr>\n",
       "    <tr>\n",
       "      <th>385564</th>\n",
       "      <td>2021-12-30 07:30:00</td>\n",
       "      <td>8503.48</td>\n",
       "    </tr>\n",
       "    <tr>\n",
       "      <th>385565</th>\n",
       "      <td>2021-12-30 07:45:00</td>\n",
       "      <td>8403.53</td>\n",
       "    </tr>\n",
       "  </tbody>\n",
       "</table>\n",
       "<p>385566 rows × 2 columns</p>\n",
       "</div>"
      ],
      "text/plain": [
       "                         dt       MW\n",
       "0       2011-01-01 00:00:00  3416.00\n",
       "1       2011-01-01 00:15:00  4755.00\n",
       "2       2011-01-01 00:30:00  4939.00\n",
       "3       2011-01-01 00:45:00  4939.00\n",
       "4       2011-01-01 01:00:00  4998.00\n",
       "...                     ...      ...\n",
       "385561  2021-12-30 06:45:00  8140.31\n",
       "385562  2021-12-30 07:00:00  8162.33\n",
       "385563  2021-12-30 07:15:00  8405.11\n",
       "385564  2021-12-30 07:30:00  8503.48\n",
       "385565  2021-12-30 07:45:00  8403.53\n",
       "\n",
       "[385566 rows x 2 columns]"
      ]
     },
     "execution_count": 3,
     "metadata": {},
     "output_type": "execute_result"
    }
   ],
   "source": [
    "data = pd.read_csv('turbines.csv')\n",
    "data"
   ]
  },
  {
   "cell_type": "code",
   "execution_count": 4,
   "id": "7600a940-9c35-4e53-be4a-f0169bb35cdd",
   "metadata": {},
   "outputs": [
    {
     "data": {
      "text/plain": [
       "Index(['dt', 'MW'], dtype='object')"
      ]
     },
     "execution_count": 4,
     "metadata": {},
     "output_type": "execute_result"
    }
   ],
   "source": [
    "data.columns"
   ]
  },
  {
   "cell_type": "code",
   "execution_count": 5,
   "id": "cc2d34c2-f15e-4260-8e13-724ecd5dc902",
   "metadata": {},
   "outputs": [],
   "source": [
    "#now I want to check out the amount of MW produced on the first day and to check how the separation could be done"
   ]
  },
  {
   "cell_type": "code",
   "execution_count": 6,
   "id": "affc030d-54dc-458d-b350-9beecc2cf5da",
   "metadata": {},
   "outputs": [],
   "source": [
    "data['dt'] = pd.to_datetime(data['dt'])\n",
    "\n",
    "# Filter rows where date is '2011-01-01'\n",
    "first_day = data[data['dt'].dt.date == pd.to_datetime('2011-01-01').date()]"
   ]
  },
  {
   "cell_type": "code",
   "execution_count": 7,
   "id": "903391ad-07e9-44c5-ad18-e78a5bce253e",
   "metadata": {},
   "outputs": [
    {
     "data": {
      "text/html": [
       "<div>\n",
       "<style scoped>\n",
       "    .dataframe tbody tr th:only-of-type {\n",
       "        vertical-align: middle;\n",
       "    }\n",
       "\n",
       "    .dataframe tbody tr th {\n",
       "        vertical-align: top;\n",
       "    }\n",
       "\n",
       "    .dataframe thead th {\n",
       "        text-align: right;\n",
       "    }\n",
       "</style>\n",
       "<table border=\"1\" class=\"dataframe\">\n",
       "  <thead>\n",
       "    <tr style=\"text-align: right;\">\n",
       "      <th></th>\n",
       "      <th>dt</th>\n",
       "      <th>MW</th>\n",
       "    </tr>\n",
       "  </thead>\n",
       "  <tbody>\n",
       "    <tr>\n",
       "      <th>0</th>\n",
       "      <td>2011-01-01 00:00:00</td>\n",
       "      <td>3416.0</td>\n",
       "    </tr>\n",
       "    <tr>\n",
       "      <th>1</th>\n",
       "      <td>2011-01-01 00:15:00</td>\n",
       "      <td>4755.0</td>\n",
       "    </tr>\n",
       "    <tr>\n",
       "      <th>2</th>\n",
       "      <td>2011-01-01 00:30:00</td>\n",
       "      <td>4939.0</td>\n",
       "    </tr>\n",
       "    <tr>\n",
       "      <th>3</th>\n",
       "      <td>2011-01-01 00:45:00</td>\n",
       "      <td>4939.0</td>\n",
       "    </tr>\n",
       "    <tr>\n",
       "      <th>4</th>\n",
       "      <td>2011-01-01 01:00:00</td>\n",
       "      <td>4998.0</td>\n",
       "    </tr>\n",
       "    <tr>\n",
       "      <th>...</th>\n",
       "      <td>...</td>\n",
       "      <td>...</td>\n",
       "    </tr>\n",
       "    <tr>\n",
       "      <th>91</th>\n",
       "      <td>2011-01-01 22:45:00</td>\n",
       "      <td>3614.0</td>\n",
       "    </tr>\n",
       "    <tr>\n",
       "      <th>92</th>\n",
       "      <td>2011-01-01 23:00:00</td>\n",
       "      <td>3639.0</td>\n",
       "    </tr>\n",
       "    <tr>\n",
       "      <th>93</th>\n",
       "      <td>2011-01-01 23:15:00</td>\n",
       "      <td>3484.0</td>\n",
       "    </tr>\n",
       "    <tr>\n",
       "      <th>94</th>\n",
       "      <td>2011-01-01 23:30:00</td>\n",
       "      <td>3576.0</td>\n",
       "    </tr>\n",
       "    <tr>\n",
       "      <th>95</th>\n",
       "      <td>2011-01-01 23:45:00</td>\n",
       "      <td>3529.0</td>\n",
       "    </tr>\n",
       "  </tbody>\n",
       "</table>\n",
       "<p>96 rows × 2 columns</p>\n",
       "</div>"
      ],
      "text/plain": [
       "                    dt      MW\n",
       "0  2011-01-01 00:00:00  3416.0\n",
       "1  2011-01-01 00:15:00  4755.0\n",
       "2  2011-01-01 00:30:00  4939.0\n",
       "3  2011-01-01 00:45:00  4939.0\n",
       "4  2011-01-01 01:00:00  4998.0\n",
       "..                 ...     ...\n",
       "91 2011-01-01 22:45:00  3614.0\n",
       "92 2011-01-01 23:00:00  3639.0\n",
       "93 2011-01-01 23:15:00  3484.0\n",
       "94 2011-01-01 23:30:00  3576.0\n",
       "95 2011-01-01 23:45:00  3529.0\n",
       "\n",
       "[96 rows x 2 columns]"
      ]
     },
     "execution_count": 7,
     "metadata": {},
     "output_type": "execute_result"
    }
   ],
   "source": [
    "first_day"
   ]
  },
  {
   "cell_type": "code",
   "execution_count": 8,
   "id": "96a0d5cf-ec4e-4202-868b-f1c67af16335",
   "metadata": {},
   "outputs": [
    {
     "data": {
      "text/plain": [
       "24.0"
      ]
     },
     "execution_count": 8,
     "metadata": {},
     "output_type": "execute_result"
    }
   ],
   "source": [
    "#we have 96 rows with 15 minutes difference in each. (96 rows * 15 minutes and devided by 60 (minutes in hour) we get the amount of 24 hours.\n",
    "96*15/60"
   ]
  },
  {
   "cell_type": "code",
   "execution_count": 9,
   "id": "26be6320-7b1d-4854-8db3-4af5231edd1f",
   "metadata": {},
   "outputs": [
    {
     "name": "stdout",
     "output_type": "stream",
     "text": [
      "Sum of 'MW' on 2011-01-01: 518229.0\n"
     ]
    }
   ],
   "source": [
    "#checking the amount of MW produced on this date to try to combine all days in my dataframy into one separate date with the sum of MW for a specific day\n",
    "sum_of_MW = first_day['MW'].sum()\n",
    "print(\"Sum of 'MW' on 2011-01-01:\", sum_of_MW)"
   ]
  },
  {
   "cell_type": "code",
   "execution_count": 10,
   "id": "20625acc-d611-4f7f-9bb9-5f89d9c8b8ed",
   "metadata": {},
   "outputs": [
    {
     "data": {
      "text/html": [
       "<div>\n",
       "<style scoped>\n",
       "    .dataframe tbody tr th:only-of-type {\n",
       "        vertical-align: middle;\n",
       "    }\n",
       "\n",
       "    .dataframe tbody tr th {\n",
       "        vertical-align: top;\n",
       "    }\n",
       "\n",
       "    .dataframe thead th {\n",
       "        text-align: right;\n",
       "    }\n",
       "</style>\n",
       "<table border=\"1\" class=\"dataframe\">\n",
       "  <thead>\n",
       "    <tr style=\"text-align: right;\">\n",
       "      <th></th>\n",
       "      <th>Sum Value</th>\n",
       "    </tr>\n",
       "    <tr>\n",
       "      <th>dt</th>\n",
       "      <th></th>\n",
       "    </tr>\n",
       "  </thead>\n",
       "  <tbody>\n",
       "    <tr>\n",
       "      <th>2011-01-01</th>\n",
       "      <td>518229.00</td>\n",
       "    </tr>\n",
       "    <tr>\n",
       "      <th>2011-01-02</th>\n",
       "      <td>83077.00</td>\n",
       "    </tr>\n",
       "    <tr>\n",
       "      <th>2011-01-03</th>\n",
       "      <td>73095.00</td>\n",
       "    </tr>\n",
       "    <tr>\n",
       "      <th>2011-01-04</th>\n",
       "      <td>376606.00</td>\n",
       "    </tr>\n",
       "    <tr>\n",
       "      <th>2011-01-05</th>\n",
       "      <td>216599.00</td>\n",
       "    </tr>\n",
       "    <tr>\n",
       "      <th>...</th>\n",
       "      <td>...</td>\n",
       "    </tr>\n",
       "    <tr>\n",
       "      <th>2021-12-26</th>\n",
       "      <td>294921.35</td>\n",
       "    </tr>\n",
       "    <tr>\n",
       "      <th>2021-12-27</th>\n",
       "      <td>603998.08</td>\n",
       "    </tr>\n",
       "    <tr>\n",
       "      <th>2021-12-28</th>\n",
       "      <td>659450.45</td>\n",
       "    </tr>\n",
       "    <tr>\n",
       "      <th>2021-12-29</th>\n",
       "      <td>241640.15</td>\n",
       "    </tr>\n",
       "    <tr>\n",
       "      <th>2021-12-30</th>\n",
       "      <td>220220.08</td>\n",
       "    </tr>\n",
       "  </tbody>\n",
       "</table>\n",
       "<p>4017 rows × 1 columns</p>\n",
       "</div>"
      ],
      "text/plain": [
       "            Sum Value\n",
       "dt                   \n",
       "2011-01-01  518229.00\n",
       "2011-01-02   83077.00\n",
       "2011-01-03   73095.00\n",
       "2011-01-04  376606.00\n",
       "2011-01-05  216599.00\n",
       "...               ...\n",
       "2021-12-26  294921.35\n",
       "2021-12-27  603998.08\n",
       "2021-12-28  659450.45\n",
       "2021-12-29  241640.15\n",
       "2021-12-30  220220.08\n",
       "\n",
       "[4017 rows x 1 columns]"
      ]
     },
     "execution_count": 10,
     "metadata": {},
     "output_type": "execute_result"
    }
   ],
   "source": [
    "# Set the timestamp as the index\n",
    "data.set_index('dt', inplace=True)\n",
    "\n",
    "# Resample data to daily frequency and calculate summary statistics\n",
    "data = data.resample('D').agg({\n",
    "    'MW': ['sum']\n",
    "})\n",
    "\n",
    "# Rename columns for clarity\n",
    "data.columns = ['Sum Value']\n",
    "data"
   ]
  },
  {
   "cell_type": "code",
   "execution_count": 11,
   "id": "4d632dd6-10f3-4921-8b02-1a6ac3259047",
   "metadata": {},
   "outputs": [
    {
     "data": {
      "text/plain": [
       "Index(['Sum Value'], dtype='object')"
      ]
     },
     "execution_count": 11,
     "metadata": {},
     "output_type": "execute_result"
    }
   ],
   "source": [
    "data.columns"
   ]
  },
  {
   "cell_type": "code",
   "execution_count": 12,
   "id": "f2fb33c9-7740-4117-9048-8a504d4bd61b",
   "metadata": {},
   "outputs": [
    {
     "data": {
      "text/plain": [
       "Index(['dt', 'Sum Value'], dtype='object')"
      ]
     },
     "execution_count": 12,
     "metadata": {},
     "output_type": "execute_result"
    }
   ],
   "source": [
    "#now I want to recet index again to have have it as a separated column and rename it after\n",
    "data.reset_index(inplace=True)\n",
    "data.columns"
   ]
  },
  {
   "cell_type": "code",
   "execution_count": 13,
   "id": "716719f4-53cd-4154-914f-70641b3f2fa4",
   "metadata": {},
   "outputs": [],
   "source": [
    "#renaming columns into the one that I want to have\n",
    "data.rename(columns={'dt': 'date', 'Sum Value': 'windturbines_mw'}, inplace=True)"
   ]
  },
  {
   "cell_type": "code",
   "execution_count": 14,
   "id": "ccb305a2-e7e0-4eeb-8a98-f41a56d33a69",
   "metadata": {},
   "outputs": [
    {
     "data": {
      "text/plain": [
       "date               0\n",
       "windturbines_mw    0\n",
       "dtype: int64"
      ]
     },
     "execution_count": 14,
     "metadata": {},
     "output_type": "execute_result"
    }
   ],
   "source": [
    "#checking NaN values\n",
    "nan_values = data.isna().sum()\n",
    "nan_values"
   ]
  },
  {
   "cell_type": "code",
   "execution_count": 15,
   "id": "2c8e4fd3-7210-4d96-b50d-cf79638bfede",
   "metadata": {},
   "outputs": [
    {
     "data": {
      "text/plain": [
       "date               datetime64[ns]\n",
       "windturbines_mw           float64\n",
       "dtype: object"
      ]
     },
     "execution_count": 15,
     "metadata": {},
     "output_type": "execute_result"
    }
   ],
   "source": [
    "#Checking.dtypes\n",
    "data.dtypes"
   ]
  },
  {
   "cell_type": "code",
   "execution_count": 16,
   "id": "45ae16cd-2621-4974-adcf-852d79ce8d1a",
   "metadata": {},
   "outputs": [],
   "source": [
    "#changing date column into an object\n",
    "data['date'] = data['date'].astype(str)"
   ]
  },
  {
   "cell_type": "code",
   "execution_count": 17,
   "id": "de406bed-11f8-4f1d-aacb-8129a5780450",
   "metadata": {},
   "outputs": [
    {
     "data": {
      "text/plain": [
       "date                object\n",
       "windturbines_mw    float64\n",
       "dtype: object"
      ]
     },
     "execution_count": 17,
     "metadata": {},
     "output_type": "execute_result"
    }
   ],
   "source": [
    "data.dtypes"
   ]
  },
  {
   "cell_type": "code",
   "execution_count": 18,
   "id": "298376d0-c8c2-4800-8b13-2c19ffc60eff",
   "metadata": {},
   "outputs": [
    {
     "data": {
      "text/html": [
       "<div>\n",
       "<style scoped>\n",
       "    .dataframe tbody tr th:only-of-type {\n",
       "        vertical-align: middle;\n",
       "    }\n",
       "\n",
       "    .dataframe tbody tr th {\n",
       "        vertical-align: top;\n",
       "    }\n",
       "\n",
       "    .dataframe thead th {\n",
       "        text-align: right;\n",
       "    }\n",
       "</style>\n",
       "<table border=\"1\" class=\"dataframe\">\n",
       "  <thead>\n",
       "    <tr style=\"text-align: right;\">\n",
       "      <th></th>\n",
       "      <th>date</th>\n",
       "      <th>windturbines_mw</th>\n",
       "    </tr>\n",
       "  </thead>\n",
       "  <tbody>\n",
       "    <tr>\n",
       "      <th>0</th>\n",
       "      <td>2011-01-01</td>\n",
       "      <td>518229.00</td>\n",
       "    </tr>\n",
       "    <tr>\n",
       "      <th>1</th>\n",
       "      <td>2011-01-02</td>\n",
       "      <td>83077.00</td>\n",
       "    </tr>\n",
       "    <tr>\n",
       "      <th>2</th>\n",
       "      <td>2011-01-03</td>\n",
       "      <td>73095.00</td>\n",
       "    </tr>\n",
       "    <tr>\n",
       "      <th>3</th>\n",
       "      <td>2011-01-04</td>\n",
       "      <td>376606.00</td>\n",
       "    </tr>\n",
       "    <tr>\n",
       "      <th>4</th>\n",
       "      <td>2011-01-05</td>\n",
       "      <td>216599.00</td>\n",
       "    </tr>\n",
       "    <tr>\n",
       "      <th>...</th>\n",
       "      <td>...</td>\n",
       "      <td>...</td>\n",
       "    </tr>\n",
       "    <tr>\n",
       "      <th>4012</th>\n",
       "      <td>2021-12-26</td>\n",
       "      <td>294921.35</td>\n",
       "    </tr>\n",
       "    <tr>\n",
       "      <th>4013</th>\n",
       "      <td>2021-12-27</td>\n",
       "      <td>603998.08</td>\n",
       "    </tr>\n",
       "    <tr>\n",
       "      <th>4014</th>\n",
       "      <td>2021-12-28</td>\n",
       "      <td>659450.45</td>\n",
       "    </tr>\n",
       "    <tr>\n",
       "      <th>4015</th>\n",
       "      <td>2021-12-29</td>\n",
       "      <td>241640.15</td>\n",
       "    </tr>\n",
       "    <tr>\n",
       "      <th>4016</th>\n",
       "      <td>2021-12-30</td>\n",
       "      <td>220220.08</td>\n",
       "    </tr>\n",
       "  </tbody>\n",
       "</table>\n",
       "<p>4017 rows × 2 columns</p>\n",
       "</div>"
      ],
      "text/plain": [
       "            date  windturbines_mw\n",
       "0     2011-01-01        518229.00\n",
       "1     2011-01-02         83077.00\n",
       "2     2011-01-03         73095.00\n",
       "3     2011-01-04        376606.00\n",
       "4     2011-01-05        216599.00\n",
       "...          ...              ...\n",
       "4012  2021-12-26        294921.35\n",
       "4013  2021-12-27        603998.08\n",
       "4014  2021-12-28        659450.45\n",
       "4015  2021-12-29        241640.15\n",
       "4016  2021-12-30        220220.08\n",
       "\n",
       "[4017 rows x 2 columns]"
      ]
     },
     "execution_count": 18,
     "metadata": {},
     "output_type": "execute_result"
    }
   ],
   "source": [
    "data"
   ]
  },
  {
   "cell_type": "code",
   "execution_count": 19,
   "id": "3ee5f7b4-e305-4137-aa35-3ffaa2e05034",
   "metadata": {},
   "outputs": [],
   "source": [
    "#data.to_csv('turbines_days_cleaned.csv', index=False) #saved after changing the file into a dayly format"
   ]
  },
  {
   "cell_type": "code",
   "execution_count": 20,
   "id": "6ed2fed9-7cff-44b7-a033-c2ffcad65913",
   "metadata": {},
   "outputs": [
    {
     "data": {
      "text/html": [
       "<div>\n",
       "<style scoped>\n",
       "    .dataframe tbody tr th:only-of-type {\n",
       "        vertical-align: middle;\n",
       "    }\n",
       "\n",
       "    .dataframe tbody tr th {\n",
       "        vertical-align: top;\n",
       "    }\n",
       "\n",
       "    .dataframe thead th {\n",
       "        text-align: right;\n",
       "    }\n",
       "</style>\n",
       "<table border=\"1\" class=\"dataframe\">\n",
       "  <thead>\n",
       "    <tr style=\"text-align: right;\">\n",
       "      <th></th>\n",
       "      <th>date</th>\n",
       "      <th>tavg</th>\n",
       "      <th>tmin</th>\n",
       "      <th>tmax</th>\n",
       "      <th>prcp</th>\n",
       "      <th>snow</th>\n",
       "      <th>wdir</th>\n",
       "      <th>wspd</th>\n",
       "      <th>wpgt</th>\n",
       "      <th>pres</th>\n",
       "      <th>tsun</th>\n",
       "    </tr>\n",
       "  </thead>\n",
       "  <tbody>\n",
       "    <tr>\n",
       "      <th>0</th>\n",
       "      <td>2011-01-01</td>\n",
       "      <td>2.7</td>\n",
       "      <td>1.0</td>\n",
       "      <td>4.0</td>\n",
       "      <td>0.0</td>\n",
       "      <td>110.0</td>\n",
       "      <td>277.0</td>\n",
       "      <td>22.7</td>\n",
       "      <td>51.8</td>\n",
       "      <td>1013.4</td>\n",
       "      <td>252</td>\n",
       "    </tr>\n",
       "    <tr>\n",
       "      <th>1</th>\n",
       "      <td>2011-01-02</td>\n",
       "      <td>0.9</td>\n",
       "      <td>-0.8</td>\n",
       "      <td>2.8</td>\n",
       "      <td>0.0</td>\n",
       "      <td>80.0</td>\n",
       "      <td>284.0</td>\n",
       "      <td>12.2</td>\n",
       "      <td>26.3</td>\n",
       "      <td>1017.2</td>\n",
       "      <td>162</td>\n",
       "    </tr>\n",
       "    <tr>\n",
       "      <th>2</th>\n",
       "      <td>2011-01-03</td>\n",
       "      <td>-0.8</td>\n",
       "      <td>-2.8</td>\n",
       "      <td>0.9</td>\n",
       "      <td>0.0</td>\n",
       "      <td>70.0</td>\n",
       "      <td>257.0</td>\n",
       "      <td>9.0</td>\n",
       "      <td>20.9</td>\n",
       "      <td>1020.1</td>\n",
       "      <td>84</td>\n",
       "    </tr>\n",
       "    <tr>\n",
       "      <th>3</th>\n",
       "      <td>2011-01-04</td>\n",
       "      <td>0.8</td>\n",
       "      <td>-1.1</td>\n",
       "      <td>1.5</td>\n",
       "      <td>0.0</td>\n",
       "      <td>60.0</td>\n",
       "      <td>220.0</td>\n",
       "      <td>18.7</td>\n",
       "      <td>40.0</td>\n",
       "      <td>1016.0</td>\n",
       "      <td>0</td>\n",
       "    </tr>\n",
       "    <tr>\n",
       "      <th>4</th>\n",
       "      <td>2011-01-05</td>\n",
       "      <td>-2.3</td>\n",
       "      <td>-4.5</td>\n",
       "      <td>-0.6</td>\n",
       "      <td>0.6</td>\n",
       "      <td>50.0</td>\n",
       "      <td>175.0</td>\n",
       "      <td>19.1</td>\n",
       "      <td>37.4</td>\n",
       "      <td>1010.1</td>\n",
       "      <td>252</td>\n",
       "    </tr>\n",
       "    <tr>\n",
       "      <th>...</th>\n",
       "      <td>...</td>\n",
       "      <td>...</td>\n",
       "      <td>...</td>\n",
       "      <td>...</td>\n",
       "      <td>...</td>\n",
       "      <td>...</td>\n",
       "      <td>...</td>\n",
       "      <td>...</td>\n",
       "      <td>...</td>\n",
       "      <td>...</td>\n",
       "      <td>...</td>\n",
       "    </tr>\n",
       "    <tr>\n",
       "      <th>4012</th>\n",
       "      <td>2021-12-26</td>\n",
       "      <td>-6.0</td>\n",
       "      <td>-9.8</td>\n",
       "      <td>-1.8</td>\n",
       "      <td>0.1</td>\n",
       "      <td>0.0</td>\n",
       "      <td>104.0</td>\n",
       "      <td>10.8</td>\n",
       "      <td>31.3</td>\n",
       "      <td>1013.2</td>\n",
       "      <td>395</td>\n",
       "    </tr>\n",
       "    <tr>\n",
       "      <th>4013</th>\n",
       "      <td>2021-12-27</td>\n",
       "      <td>-2.6</td>\n",
       "      <td>-5.9</td>\n",
       "      <td>0.9</td>\n",
       "      <td>0.0</td>\n",
       "      <td>0.0</td>\n",
       "      <td>119.0</td>\n",
       "      <td>17.3</td>\n",
       "      <td>32.0</td>\n",
       "      <td>1004.7</td>\n",
       "      <td>0</td>\n",
       "    </tr>\n",
       "    <tr>\n",
       "      <th>4014</th>\n",
       "      <td>2021-12-28</td>\n",
       "      <td>1.8</td>\n",
       "      <td>0.8</td>\n",
       "      <td>2.7</td>\n",
       "      <td>2.2</td>\n",
       "      <td>0.0</td>\n",
       "      <td>124.0</td>\n",
       "      <td>15.8</td>\n",
       "      <td>32.8</td>\n",
       "      <td>995.9</td>\n",
       "      <td>0</td>\n",
       "    </tr>\n",
       "    <tr>\n",
       "      <th>4015</th>\n",
       "      <td>2021-12-29</td>\n",
       "      <td>3.1</td>\n",
       "      <td>1.4</td>\n",
       "      <td>6.2</td>\n",
       "      <td>0.6</td>\n",
       "      <td>0.0</td>\n",
       "      <td>180.0</td>\n",
       "      <td>5.8</td>\n",
       "      <td>19.1</td>\n",
       "      <td>1003.3</td>\n",
       "      <td>0</td>\n",
       "    </tr>\n",
       "    <tr>\n",
       "      <th>4016</th>\n",
       "      <td>2021-12-30</td>\n",
       "      <td>9.9</td>\n",
       "      <td>5.9</td>\n",
       "      <td>12.3</td>\n",
       "      <td>4.8</td>\n",
       "      <td>0.0</td>\n",
       "      <td>232.0</td>\n",
       "      <td>17.6</td>\n",
       "      <td>46.8</td>\n",
       "      <td>1009.3</td>\n",
       "      <td>0</td>\n",
       "    </tr>\n",
       "  </tbody>\n",
       "</table>\n",
       "<p>4017 rows × 11 columns</p>\n",
       "</div>"
      ],
      "text/plain": [
       "            date  tavg  tmin  tmax  prcp   snow   wdir  wspd  wpgt    pres  \\\n",
       "0     2011-01-01   2.7   1.0   4.0   0.0  110.0  277.0  22.7  51.8  1013.4   \n",
       "1     2011-01-02   0.9  -0.8   2.8   0.0   80.0  284.0  12.2  26.3  1017.2   \n",
       "2     2011-01-03  -0.8  -2.8   0.9   0.0   70.0  257.0   9.0  20.9  1020.1   \n",
       "3     2011-01-04   0.8  -1.1   1.5   0.0   60.0  220.0  18.7  40.0  1016.0   \n",
       "4     2011-01-05  -2.3  -4.5  -0.6   0.6   50.0  175.0  19.1  37.4  1010.1   \n",
       "...          ...   ...   ...   ...   ...    ...    ...   ...   ...     ...   \n",
       "4012  2021-12-26  -6.0  -9.8  -1.8   0.1    0.0  104.0  10.8  31.3  1013.2   \n",
       "4013  2021-12-27  -2.6  -5.9   0.9   0.0    0.0  119.0  17.3  32.0  1004.7   \n",
       "4014  2021-12-28   1.8   0.8   2.7   2.2    0.0  124.0  15.8  32.8   995.9   \n",
       "4015  2021-12-29   3.1   1.4   6.2   0.6    0.0  180.0   5.8  19.1  1003.3   \n",
       "4016  2021-12-30   9.9   5.9  12.3   4.8    0.0  232.0  17.6  46.8  1009.3   \n",
       "\n",
       "      tsun  \n",
       "0      252  \n",
       "1      162  \n",
       "2       84  \n",
       "3        0  \n",
       "4      252  \n",
       "...    ...  \n",
       "4012   395  \n",
       "4013     0  \n",
       "4014     0  \n",
       "4015     0  \n",
       "4016     0  \n",
       "\n",
       "[4017 rows x 11 columns]"
      ]
     },
     "execution_count": 20,
     "metadata": {},
     "output_type": "execute_result"
    }
   ],
   "source": [
    "#now lets try and use the file from scrapping and connect them together.\n",
    "df = pd.read_csv('hamburg.csv')\n",
    "df"
   ]
  },
  {
   "cell_type": "code",
   "execution_count": 21,
   "id": "2e557563-142e-4229-bc13-c90295faa27b",
   "metadata": {},
   "outputs": [
    {
     "data": {
      "text/plain": [
       "date    0\n",
       "tavg    0\n",
       "tmin    0\n",
       "tmax    0\n",
       "prcp    0\n",
       "snow    0\n",
       "wdir    0\n",
       "wspd    0\n",
       "wpgt    5\n",
       "pres    0\n",
       "tsun    0\n",
       "dtype: int64"
      ]
     },
     "execution_count": 21,
     "metadata": {},
     "output_type": "execute_result"
    }
   ],
   "source": [
    "nan_values = df.isna().sum()\n",
    "nan_values"
   ]
  },
  {
   "cell_type": "code",
   "execution_count": 22,
   "id": "9f0cc30f-9055-4bbc-883a-f24a7d8e819f",
   "metadata": {},
   "outputs": [
    {
     "data": {
      "text/plain": [
       "date     object\n",
       "tavg    float64\n",
       "tmin    float64\n",
       "tmax    float64\n",
       "prcp    float64\n",
       "snow    float64\n",
       "wdir    float64\n",
       "wspd    float64\n",
       "wpgt    float64\n",
       "pres    float64\n",
       "tsun      int64\n",
       "dtype: object"
      ]
     },
     "execution_count": 22,
     "metadata": {},
     "output_type": "execute_result"
    }
   ],
   "source": [
    "df.dtypes"
   ]
  },
  {
   "cell_type": "code",
   "execution_count": 23,
   "id": "40f5a1d6-0be5-4ec9-910f-4f0a3b71811c",
   "metadata": {},
   "outputs": [],
   "source": [
    "#wind turbine per day\n",
    "# https://www.kaggle.com/datasets/l3llff/wind-power/data\n",
    "#wiki\n",
    "# https://en.wikipedia.org/wiki/Wind_power_in_Germany#By_State\n",
    "#API weather\n",
    "# https://meteostat.net/de/place/de/hamburg?s=10147&t=2011-01-01/2024-12-30"
   ]
  },
  {
   "cell_type": "code",
   "execution_count": null,
   "id": "acf76960-b69b-4352-85cc-7d5715309544",
   "metadata": {},
   "outputs": [],
   "source": []
  },
  {
   "cell_type": "code",
   "execution_count": null,
   "id": "7b8a0f60-9875-460f-8649-12aa6ce25ab8",
   "metadata": {},
   "outputs": [],
   "source": []
  }
 ],
 "metadata": {
  "kernelspec": {
   "display_name": "Python 3 (ipykernel)",
   "language": "python",
   "name": "python3"
  },
  "language_info": {
   "codemirror_mode": {
    "name": "ipython",
    "version": 3
   },
   "file_extension": ".py",
   "mimetype": "text/x-python",
   "name": "python",
   "nbconvert_exporter": "python",
   "pygments_lexer": "ipython3",
   "version": "3.11.7"
  }
 },
 "nbformat": 4,
 "nbformat_minor": 5
}
