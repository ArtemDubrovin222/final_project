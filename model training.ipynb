{
 "cells": [
  {
   "cell_type": "code",
   "execution_count": 1,
   "id": "924b212f-f147-4ba5-83df-f9792b14f658",
   "metadata": {},
   "outputs": [],
   "source": [
    "import pandas as pd\n",
    "import matplotlib.pyplot as plt\n",
    "import seaborn as sns\n",
    "from sklearn.model_selection import train_test_split\n",
    "from sklearn.linear_model import LinearRegression\n",
    "from sklearn.metrics import mean_squared_error, r2_score\n",
    "from sklearn.metrics import mean_absolute_error, mean_squared_error\n",
    "import numpy as np\n",
    "import warnings\n",
    "from sklearn.exceptions import ConvergenceWarning\n",
    "warnings.filterwarnings(\"ignore\", category=ConvergenceWarning)"
   ]
  },
  {
   "cell_type": "code",
   "execution_count": 2,
   "id": "d5f1a7d4-871a-4325-908e-fa76236cae8d",
   "metadata": {},
   "outputs": [
    {
     "data": {
      "text/html": [
       "<div>\n",
       "<style scoped>\n",
       "    .dataframe tbody tr th:only-of-type {\n",
       "        vertical-align: middle;\n",
       "    }\n",
       "\n",
       "    .dataframe tbody tr th {\n",
       "        vertical-align: top;\n",
       "    }\n",
       "\n",
       "    .dataframe thead th {\n",
       "        text-align: right;\n",
       "    }\n",
       "</style>\n",
       "<table border=\"1\" class=\"dataframe\">\n",
       "  <thead>\n",
       "    <tr style=\"text-align: right;\">\n",
       "      <th></th>\n",
       "      <th>date</th>\n",
       "      <th>tavg</th>\n",
       "      <th>tmin</th>\n",
       "      <th>tmax</th>\n",
       "      <th>prcp</th>\n",
       "      <th>snow</th>\n",
       "      <th>wdir</th>\n",
       "      <th>wspd</th>\n",
       "      <th>wpgt</th>\n",
       "      <th>pres</th>\n",
       "      <th>tsun</th>\n",
       "      <th>windturbines_mw</th>\n",
       "    </tr>\n",
       "  </thead>\n",
       "  <tbody>\n",
       "    <tr>\n",
       "      <th>0</th>\n",
       "      <td>2011-01-01</td>\n",
       "      <td>2.1</td>\n",
       "      <td>0.7</td>\n",
       "      <td>3.4</td>\n",
       "      <td>0.5</td>\n",
       "      <td>153.3</td>\n",
       "      <td>268.3</td>\n",
       "      <td>20.0</td>\n",
       "      <td>44.2</td>\n",
       "      <td>1015.3</td>\n",
       "      <td>90</td>\n",
       "      <td>518229.00</td>\n",
       "    </tr>\n",
       "    <tr>\n",
       "      <th>1</th>\n",
       "      <td>2011-01-02</td>\n",
       "      <td>0.6</td>\n",
       "      <td>-1.4</td>\n",
       "      <td>2.0</td>\n",
       "      <td>0.1</td>\n",
       "      <td>96.7</td>\n",
       "      <td>283.3</td>\n",
       "      <td>12.1</td>\n",
       "      <td>28.3</td>\n",
       "      <td>1018.5</td>\n",
       "      <td>70</td>\n",
       "      <td>83077.00</td>\n",
       "    </tr>\n",
       "    <tr>\n",
       "      <th>2</th>\n",
       "      <td>2011-01-03</td>\n",
       "      <td>-1.0</td>\n",
       "      <td>-2.8</td>\n",
       "      <td>0.7</td>\n",
       "      <td>0.5</td>\n",
       "      <td>90.0</td>\n",
       "      <td>259.7</td>\n",
       "      <td>8.8</td>\n",
       "      <td>21.7</td>\n",
       "      <td>1021.1</td>\n",
       "      <td>32</td>\n",
       "      <td>73095.00</td>\n",
       "    </tr>\n",
       "    <tr>\n",
       "      <th>3</th>\n",
       "      <td>2011-01-04</td>\n",
       "      <td>-1.1</td>\n",
       "      <td>-4.4</td>\n",
       "      <td>0.3</td>\n",
       "      <td>0.0</td>\n",
       "      <td>90.0</td>\n",
       "      <td>190.7</td>\n",
       "      <td>12.2</td>\n",
       "      <td>29.1</td>\n",
       "      <td>1017.7</td>\n",
       "      <td>40</td>\n",
       "      <td>376606.00</td>\n",
       "    </tr>\n",
       "    <tr>\n",
       "      <th>4</th>\n",
       "      <td>2011-01-05</td>\n",
       "      <td>-4.1</td>\n",
       "      <td>-6.4</td>\n",
       "      <td>-0.9</td>\n",
       "      <td>2.3</td>\n",
       "      <td>83.3</td>\n",
       "      <td>155.7</td>\n",
       "      <td>15.8</td>\n",
       "      <td>33.7</td>\n",
       "      <td>1011.9</td>\n",
       "      <td>268</td>\n",
       "      <td>216599.00</td>\n",
       "    </tr>\n",
       "    <tr>\n",
       "      <th>...</th>\n",
       "      <td>...</td>\n",
       "      <td>...</td>\n",
       "      <td>...</td>\n",
       "      <td>...</td>\n",
       "      <td>...</td>\n",
       "      <td>...</td>\n",
       "      <td>...</td>\n",
       "      <td>...</td>\n",
       "      <td>...</td>\n",
       "      <td>...</td>\n",
       "      <td>...</td>\n",
       "      <td>...</td>\n",
       "    </tr>\n",
       "    <tr>\n",
       "      <th>4012</th>\n",
       "      <td>2021-12-26</td>\n",
       "      <td>-4.1</td>\n",
       "      <td>-7.3</td>\n",
       "      <td>-0.4</td>\n",
       "      <td>0.0</td>\n",
       "      <td>0.0</td>\n",
       "      <td>103.7</td>\n",
       "      <td>12.7</td>\n",
       "      <td>29.8</td>\n",
       "      <td>1011.3</td>\n",
       "      <td>255</td>\n",
       "      <td>294921.35</td>\n",
       "    </tr>\n",
       "    <tr>\n",
       "      <th>4013</th>\n",
       "      <td>2021-12-27</td>\n",
       "      <td>-0.4</td>\n",
       "      <td>-4.3</td>\n",
       "      <td>2.6</td>\n",
       "      <td>1.7</td>\n",
       "      <td>0.0</td>\n",
       "      <td>113.7</td>\n",
       "      <td>16.7</td>\n",
       "      <td>30.3</td>\n",
       "      <td>1004.4</td>\n",
       "      <td>19</td>\n",
       "      <td>603998.08</td>\n",
       "    </tr>\n",
       "    <tr>\n",
       "      <th>4014</th>\n",
       "      <td>2021-12-28</td>\n",
       "      <td>3.3</td>\n",
       "      <td>1.1</td>\n",
       "      <td>5.5</td>\n",
       "      <td>6.1</td>\n",
       "      <td>0.0</td>\n",
       "      <td>136.3</td>\n",
       "      <td>16.4</td>\n",
       "      <td>43.6</td>\n",
       "      <td>996.8</td>\n",
       "      <td>6</td>\n",
       "      <td>659450.45</td>\n",
       "    </tr>\n",
       "    <tr>\n",
       "      <th>4015</th>\n",
       "      <td>2021-12-29</td>\n",
       "      <td>5.6</td>\n",
       "      <td>3.6</td>\n",
       "      <td>8.3</td>\n",
       "      <td>2.3</td>\n",
       "      <td>0.0</td>\n",
       "      <td>208.3</td>\n",
       "      <td>9.6</td>\n",
       "      <td>28.4</td>\n",
       "      <td>1004.4</td>\n",
       "      <td>6</td>\n",
       "      <td>241640.15</td>\n",
       "    </tr>\n",
       "    <tr>\n",
       "      <th>4016</th>\n",
       "      <td>2021-12-30</td>\n",
       "      <td>10.8</td>\n",
       "      <td>7.0</td>\n",
       "      <td>13.5</td>\n",
       "      <td>2.5</td>\n",
       "      <td>0.0</td>\n",
       "      <td>230.0</td>\n",
       "      <td>16.8</td>\n",
       "      <td>45.2</td>\n",
       "      <td>1012.1</td>\n",
       "      <td>0</td>\n",
       "      <td>220220.08</td>\n",
       "    </tr>\n",
       "  </tbody>\n",
       "</table>\n",
       "<p>4017 rows × 12 columns</p>\n",
       "</div>"
      ],
      "text/plain": [
       "            date  tavg  tmin  tmax  prcp   snow   wdir  wspd  wpgt    pres  \\\n",
       "0     2011-01-01   2.1   0.7   3.4   0.5  153.3  268.3  20.0  44.2  1015.3   \n",
       "1     2011-01-02   0.6  -1.4   2.0   0.1   96.7  283.3  12.1  28.3  1018.5   \n",
       "2     2011-01-03  -1.0  -2.8   0.7   0.5   90.0  259.7   8.8  21.7  1021.1   \n",
       "3     2011-01-04  -1.1  -4.4   0.3   0.0   90.0  190.7  12.2  29.1  1017.7   \n",
       "4     2011-01-05  -4.1  -6.4  -0.9   2.3   83.3  155.7  15.8  33.7  1011.9   \n",
       "...          ...   ...   ...   ...   ...    ...    ...   ...   ...     ...   \n",
       "4012  2021-12-26  -4.1  -7.3  -0.4   0.0    0.0  103.7  12.7  29.8  1011.3   \n",
       "4013  2021-12-27  -0.4  -4.3   2.6   1.7    0.0  113.7  16.7  30.3  1004.4   \n",
       "4014  2021-12-28   3.3   1.1   5.5   6.1    0.0  136.3  16.4  43.6   996.8   \n",
       "4015  2021-12-29   5.6   3.6   8.3   2.3    0.0  208.3   9.6  28.4  1004.4   \n",
       "4016  2021-12-30  10.8   7.0  13.5   2.5    0.0  230.0  16.8  45.2  1012.1   \n",
       "\n",
       "      tsun  windturbines_mw  \n",
       "0       90        518229.00  \n",
       "1       70         83077.00  \n",
       "2       32         73095.00  \n",
       "3       40        376606.00  \n",
       "4      268        216599.00  \n",
       "...    ...              ...  \n",
       "4012   255        294921.35  \n",
       "4013    19        603998.08  \n",
       "4014     6        659450.45  \n",
       "4015     6        241640.15  \n",
       "4016     0        220220.08  \n",
       "\n",
       "[4017 rows x 12 columns]"
      ]
     },
     "execution_count": 2,
     "metadata": {},
     "output_type": "execute_result"
    }
   ],
   "source": [
    "data = pd.read_csv('data for project/merged_with_weather.csv')\n",
    "data"
   ]
  },
  {
   "cell_type": "code",
   "execution_count": 3,
   "id": "73fb235e-529a-482d-a49c-b09318738d4f",
   "metadata": {},
   "outputs": [],
   "source": [
    "# Split the date column into year, month, and day\n",
    "data[['year', 'month', 'day']] = data['date'].str.split('-', expand=True)\n",
    "# Drop the 'date' column\n",
    "data = data.drop(columns=['date'])"
   ]
  },
  {
   "cell_type": "code",
   "execution_count": 4,
   "id": "b40cfdba-1e31-42f7-b544-4058ba97e709",
   "metadata": {},
   "outputs": [
    {
     "data": {
      "text/plain": [
       "tavg               float64\n",
       "tmin               float64\n",
       "tmax               float64\n",
       "prcp               float64\n",
       "snow               float64\n",
       "wdir               float64\n",
       "wspd               float64\n",
       "wpgt               float64\n",
       "pres               float64\n",
       "tsun                 int64\n",
       "windturbines_mw    float64\n",
       "year                object\n",
       "month               object\n",
       "day                 object\n",
       "dtype: object"
      ]
     },
     "execution_count": 4,
     "metadata": {},
     "output_type": "execute_result"
    }
   ],
   "source": [
    "data.dtypes"
   ]
  },
  {
   "cell_type": "code",
   "execution_count": 5,
   "id": "0b449de4-c72b-4224-a254-1fcba42067f8",
   "metadata": {},
   "outputs": [],
   "source": [
    "# Convert the data type of year, month, and day columns to int\n",
    "data[['year', 'month', 'day']] = data[['year', 'month', 'day']].astype(int)"
   ]
  },
  {
   "cell_type": "code",
   "execution_count": 6,
   "id": "2541320f-9c70-4536-bdc2-d03ac2a480d7",
   "metadata": {},
   "outputs": [
    {
     "data": {
      "image/png": "[encoded data removed]",
      "text/plain": [
       "<Figure size 1000x800 with 2 Axes>"
      ]
     },
     "metadata": {},
     "output_type": "display_data"
    }
   ],
   "source": [
    "numerical_data = data.select_dtypes(include=['number'])\n",
    "\n",
    "# Calculate the correlation matrix\n",
    "correlation_matrix = numerical_data.corr()\n",
    "\n",
    "# Create a heatmap to visualize the correlation matrix\n",
    "plt.figure(figsize=(10, 8))\n",
    "sns.heatmap(correlation_matrix, annot=True, cmap='coolwarm', linewidths=0.5)\n",
    "plt.title('Correlation Matrix Heatmap')\n",
    "plt.show()"
   ]
  },
  {
   "cell_type": "code",
   "execution_count": 7,
   "id": "5c827fa8-59d3-4e5d-b802-b0a42da8b03d",
   "metadata": {},
   "outputs": [],
   "source": [
    "#As we can see there's a decent correllation between MW produced and wspd, wpgt (wind columns with values in it).\n",
    "#There's also a slight correlation between MW produced by tubines and prcp (Total Precipitation).\n",
    "#I would connect it in that case to a slighly windier weather once it rains.\n",
    "#As we can see all other values are negatively correlated, that was also expected in that case."
   ]
  },
  {
   "cell_type": "code",
   "execution_count": 8,
   "id": "387a5ad7-99ca-4ba8-9a65-a4365f327327",
   "metadata": {},
   "outputs": [],
   "source": [
    "X = numerical_data.drop(columns=['windturbines_mw'])  # Features\n",
    "y = numerical_data['windturbines_mw']  # Target variable"
   ]
  },
  {
   "cell_type": "code",
   "execution_count": 9,
   "id": "3e812667-59ae-4a48-9b36-939be689dbc3",
   "metadata": {},
   "outputs": [],
   "source": [
    "# Split the data into training and testing sets\n",
    "X_train, X_test, y_train, y_test = train_test_split(X, y, test_size=0.2, random_state=42)"
   ]
  },
  {
   "cell_type": "code",
   "execution_count": 10,
   "id": "4e281eb5-09bc-499a-a13b-2d4f769ac81e",
   "metadata": {},
   "outputs": [
    {
     "name": "stdout",
     "output_type": "stream",
     "text": [
      "LinearRegression R^2 Score: 0.4532219861466239\n",
      "MAE: 140880.65100190128, MSE: 41325171758.29401, RMSE: 203285.93595793587\n"
     ]
    }
   ],
   "source": [
    "#Starting with linearRegression\n",
    "model = LinearRegression()\n",
    "model.fit(X_train, y_train)\n",
    "y_pred = model.predict(X_test)\n",
    "r2 = r2_score(y_test, y_pred)\n",
    "print(f'LinearRegression R^2 Score: {r2}')\n",
    "\n",
    "# Evaluation\n",
    "mae = mean_absolute_error(y_test, y_pred)\n",
    "mse = mean_squared_error(y_test, y_pred)\n",
    "rmse = np.sqrt(mse)\n",
    "print(f'MAE: {mae}, MSE: {mse}, RMSE: {rmse}')"
   ]
  },
  {
   "cell_type": "code",
   "execution_count": 11,
   "id": "1558b0e6-b057-4501-8fbc-4714918d399e",
   "metadata": {},
   "outputs": [],
   "source": [
    "from sklearn.ensemble import RandomForestRegressor\n",
    "from sklearn.metrics import f1_score"
   ]
  },
  {
   "cell_type": "code",
   "execution_count": 12,
   "id": "dfd7f61e-4c16-4d96-8848-e82a388a90e4",
   "metadata": {},
   "outputs": [
    {
     "name": "stdout",
     "output_type": "stream",
     "text": [
      "RandomForest R^2 Score: 0.6568075649985832\n",
      "MAE: 105962.950519403, MSE: 25938289329.943462, RMSE: 161053.68462082284\n"
     ]
    }
   ],
   "source": [
    "# Initialize the Random Forest Regressor model\n",
    "model = RandomForestRegressor(n_estimators=100, random_state=42)\n",
    "# Train the model\n",
    "model.fit(X_train, y_train)\n",
    "# Make predictions on the test set\n",
    "y_pred = model.predict(X_test)\n",
    "\n",
    "#mse = mean_squared_error(y_test, y_pred)\n",
    "r2 = r2_score(y_test, y_pred)\n",
    "\n",
    "#print(f'Mean Squared Error: {mse}')\n",
    "print(f'RandomForest R^2 Score: {r2}')\n",
    "\n",
    "# Evaluation\n",
    "mae = mean_absolute_error(y_test, y_pred)\n",
    "mse = mean_squared_error(y_test, y_pred)\n",
    "rmse = np.sqrt(mse)\n",
    "print(f'MAE: {mae}, MSE: {mse}, RMSE: {rmse}')"
   ]
  },
  {
   "cell_type": "code",
   "execution_count": 13,
   "id": "44d4895e-f88d-41cb-a247-aa8f3ad1116d",
   "metadata": {},
   "outputs": [],
   "source": [
    "from sklearn.svm import SVR"
   ]
  },
  {
   "cell_type": "code",
   "execution_count": 14,
   "id": "d277b93b-d93a-4432-84ea-bf0d626eb24b",
   "metadata": {},
   "outputs": [
    {
     "name": "stdout",
     "output_type": "stream",
     "text": [
      "SVR R^2 Score: -0.08220299442505685\n",
      "MAE: 199342.86233442198, MSE: 81792287708.82559, RMSE: 285993.50990682567\n"
     ]
    }
   ],
   "source": [
    "# Initialize the SVR model\n",
    "model = SVR(kernel='rbf')\n",
    "\n",
    "# Train the model\n",
    "model.fit(X_train, y_train)\n",
    "\n",
    "# Make predictions on the test set\n",
    "y_pred = model.predict(X_test)\n",
    "\n",
    "# Evaluate the model\n",
    "#mse = mean_squared_error(y_test, y_pred)\n",
    "r2 = r2_score(y_test, y_pred)\n",
    "\n",
    "#print(f'SVR Mean Squared Error: {mse}')\n",
    "print(f'SVR R^2 Score: {r2}')\n",
    "\n",
    "# Evaluation\n",
    "mae = mean_absolute_error(y_test, y_pred)\n",
    "mse = mean_squared_error(y_test, y_pred)\n",
    "rmse = np.sqrt(mse)\n",
    "print(f'MAE: {mae}, MSE: {mse}, RMSE: {rmse}')"
   ]
  },
  {
   "cell_type": "code",
   "execution_count": 15,
   "id": "53ad32e7-bf4d-4328-88cf-c9555a6ad8c0",
   "metadata": {},
   "outputs": [],
   "source": [
    "from sklearn.ensemble import GradientBoostingRegressor"
   ]
  },
  {
   "cell_type": "code",
   "execution_count": 16,
   "id": "45a8bac2-1eeb-4a17-964c-c52cf2e4263a",
   "metadata": {},
   "outputs": [
    {
     "name": "stdout",
     "output_type": "stream",
     "text": [
      "Gradient Boosting R^2 Score: 0.6421284785478396\n",
      "MAE: 110027.5686763508, MSE: 27047726347.27477, RMSE: 164461.92978095193\n"
     ]
    }
   ],
   "source": [
    "# Initialize the Gradient Boosting Regressor model\n",
    "model = GradientBoostingRegressor(n_estimators=100, random_state=42)\n",
    "\n",
    "# Train the model\n",
    "model.fit(X_train, y_train)\n",
    "\n",
    "# Make predictions on the test set\n",
    "y_pred = model.predict(X_test)\n",
    "\n",
    "# Evaluate the model\n",
    "#mse = mean_squared_error(y_test, y_pred)\n",
    "r2 = r2_score(y_test, y_pred)\n",
    "\n",
    "#print(f'Gradient Boosting Mean Squared Error: {mse}')\n",
    "print(f'Gradient Boosting R^2 Score: {r2}')\n",
    "\n",
    "# Evaluation\n",
    "mae = mean_absolute_error(y_test, y_pred)\n",
    "mse = mean_squared_error(y_test, y_pred)\n",
    "rmse = np.sqrt(mse)\n",
    "print(f'MAE: {mae}, MSE: {mse}, RMSE: {rmse}')"
   ]
  },
  {
   "cell_type": "code",
   "execution_count": 17,
   "id": "f3f6bafe-c698-43ba-b41e-368c13ee42da",
   "metadata": {},
   "outputs": [],
   "source": [
    "from sklearn.neighbors import KNeighborsRegressor"
   ]
  },
  {
   "cell_type": "code",
   "execution_count": 18,
   "id": "590dc84d-71a6-45ea-8935-a85871480a50",
   "metadata": {},
   "outputs": [
    {
     "name": "stdout",
     "output_type": "stream",
     "text": [
      "KNN R^2 Score: 0.25482918543427935\n",
      "MAE: 171829.718261194, MSE: 56319586963.95949, RMSE: 237317.4813703354\n"
     ]
    }
   ],
   "source": [
    "# Initialize the K-Nearest Neighbors Regressor model\n",
    "model = KNeighborsRegressor(n_neighbors=5)\n",
    "\n",
    "# Train the model\n",
    "model.fit(X_train, y_train)\n",
    "\n",
    "# Make predictions on the test set\n",
    "y_pred = model.predict(X_test)\n",
    "\n",
    "# Evaluate the model\n",
    "#mse = mean_squared_error(y_test, y_pred)\n",
    "r2 = r2_score(y_test, y_pred)\n",
    "\n",
    "#print(f'KNN Mean Squared Error: {mse}')\n",
    "print(f'KNN R^2 Score: {r2}')\n",
    "\n",
    "# Evaluation\n",
    "mae = mean_absolute_error(y_test, y_pred)\n",
    "mse = mean_squared_error(y_test, y_pred)\n",
    "rmse = np.sqrt(mse)\n",
    "print(f'MAE: {mae}, MSE: {mse}, RMSE: {rmse}')"
   ]
  },
  {
   "cell_type": "code",
   "execution_count": 19,
   "id": "619ef8aa-6312-4de8-9dbb-014dcc360d8c",
   "metadata": {},
   "outputs": [],
   "source": [
    "from sklearn.tree import DecisionTreeRegressor"
   ]
  },
  {
   "cell_type": "code",
   "execution_count": 20,
   "id": "b25b9ad9-27bb-47b5-8775-9a2233407fe6",
   "metadata": {},
   "outputs": [
    {
     "name": "stdout",
     "output_type": "stream",
     "text": [
      "Decision Tree R^2 Score: 0.19503474514381514\n",
      "MAE: 155566.224079602, MSE: 60838816802.372696, RMSE: 246655.25902030285\n"
     ]
    }
   ],
   "source": [
    "# Initialize the Decision Tree Regressor model\n",
    "model = DecisionTreeRegressor(random_state=42)\n",
    "\n",
    "# Train the model\n",
    "model.fit(X_train, y_train)\n",
    "\n",
    "# Make predictions on the test set\n",
    "y_pred = model.predict(X_test)\n",
    "\n",
    "# Evaluate the model\n",
    "#mse = mean_squared_error(y_test, y_pred)\n",
    "r2 = r2_score(y_test, y_pred)\n",
    "\n",
    "#print(f'Decision Tree Mean Squared Error: {mse}')\n",
    "print(f'Decision Tree R^2 Score: {r2}')\n",
    "\n",
    "# Evaluation\n",
    "mae = mean_absolute_error(y_test, y_pred)\n",
    "mse = mean_squared_error(y_test, y_pred)\n",
    "rmse = np.sqrt(mse)\n",
    "print(f'MAE: {mae}, MSE: {mse}, RMSE: {rmse}')"
   ]
  },
  {
   "cell_type": "code",
   "execution_count": 21,
   "id": "2b49efe5-8fd9-49bf-ae98-921a99373fcc",
   "metadata": {},
   "outputs": [],
   "source": [
    "from sklearn.linear_model import Ridge"
   ]
  },
  {
   "cell_type": "code",
   "execution_count": 22,
   "id": "8b6002cd-5ac6-4661-884e-cdc4c29c95a2",
   "metadata": {},
   "outputs": [
    {
     "name": "stdout",
     "output_type": "stream",
     "text": [
      "Ridge R^2 Score: 0.45322112729856756\n",
      "MAE: 140881.15608379088, MSE: 41325236669.54234, RMSE: 203286.09561291285\n"
     ]
    }
   ],
   "source": [
    "# Initialize the Ridge Regression model\n",
    "model = Ridge(alpha=1.0)\n",
    "\n",
    "# Train the model\n",
    "model.fit(X_train, y_train)\n",
    "\n",
    "# Make predictions on the test set\n",
    "y_pred = model.predict(X_test)\n",
    "\n",
    "# Evaluate the model\n",
    "#mse = mean_squared_error(y_test, y_pred)\n",
    "r2 = r2_score(y_test, y_pred)\n",
    "\n",
    "#print(f'Ridge Mean Squared Error: {mse}')\n",
    "print(f'Ridge R^2 Score: {r2}')\n",
    "\n",
    "# Evaluation\n",
    "mae = mean_absolute_error(y_test, y_pred)\n",
    "mse = mean_squared_error(y_test, y_pred)\n",
    "rmse = np.sqrt(mse)\n",
    "print(f'MAE: {mae}, MSE: {mse}, RMSE: {rmse}')"
   ]
  },
  {
   "cell_type": "code",
   "execution_count": 23,
   "id": "980840d0-e9e5-42e6-bba1-387dc54b1409",
   "metadata": {},
   "outputs": [],
   "source": [
    "from sklearn.linear_model import Lasso"
   ]
  },
  {
   "cell_type": "code",
   "execution_count": 24,
   "id": "452bafed-749e-49cd-85ca-11b188b8517d",
   "metadata": {},
   "outputs": [
    {
     "name": "stdout",
     "output_type": "stream",
     "text": [
      "Lasso R^2 Score: 0.45322422671208573\n",
      "MAE: 140880.6487276604, MSE: 41325002417.628876, RMSE: 203285.51944894865\n"
     ]
    }
   ],
   "source": [
    "# Initialize the Lasso Regression model\n",
    "model = Lasso(alpha=0.1)\n",
    "\n",
    "# Train the model\n",
    "model.fit(X_train, y_train)\n",
    "\n",
    "# Make predictions on the test set\n",
    "y_pred = model.predict(X_test)\n",
    "\n",
    "# Evaluate the model\n",
    "#mse = mean_squared_error(y_test, y_pred)\n",
    "r2 = r2_score(y_test, y_pred)\n",
    "\n",
    "#print(f'Lasso Mean Squared Error: {mse}')\n",
    "print(f'Lasso R^2 Score: {r2}')\n",
    "\n",
    "# Evaluation\n",
    "mae = mean_absolute_error(y_test, y_pred)\n",
    "mse = mean_squared_error(y_test, y_pred)\n",
    "rmse = np.sqrt(mse)\n",
    "print(f'MAE: {mae}, MSE: {mse}, RMSE: {rmse}')"
   ]
  },
  {
   "cell_type": "code",
   "execution_count": 25,
   "id": "834cd05a-3181-42a0-871d-c39e490847a7",
   "metadata": {},
   "outputs": [],
   "source": [
    "from sklearn.linear_model import ElasticNet"
   ]
  },
  {
   "cell_type": "code",
   "execution_count": 26,
   "id": "179fc739-2336-4eb4-ac99-f89de312c379",
   "metadata": {},
   "outputs": [
    {
     "name": "stdout",
     "output_type": "stream",
     "text": [
      "Elastic Net R^2 Score: 0.44948730831589423\n",
      "MAE: 141806.2827279787, MSE: 41607436587.72474, RMSE: 203979.01016458712\n"
     ]
    }
   ],
   "source": [
    "# Initialize the Elastic Net Regression model\n",
    "model = ElasticNet(alpha=1.0, l1_ratio=0.5)\n",
    "\n",
    "# Train the model\n",
    "model.fit(X_train, y_train)\n",
    "\n",
    "# Make predictions on the test set\n",
    "y_pred = model.predict(X_test)\n",
    "\n",
    "# Evaluate the model\n",
    "#mse = mean_squared_error(y_test, y_pred)\n",
    "r2 = r2_score(y_test, y_pred)\n",
    "\n",
    "#print(f'Elastic Net Mean Squared Error: {mse}')\n",
    "print(f'Elastic Net R^2 Score: {r2}')\n",
    "\n",
    "# Evaluation\n",
    "mae = mean_absolute_error(y_test, y_pred)\n",
    "mse = mean_squared_error(y_test, y_pred)\n",
    "rmse = np.sqrt(mse)\n",
    "print(f'MAE: {mae}, MSE: {mse}, RMSE: {rmse}')"
   ]
  },
  {
   "cell_type": "code",
   "execution_count": 27,
   "id": "fcef68b8-5519-41c0-923e-f3eb6b854de0",
   "metadata": {},
   "outputs": [],
   "source": [
    "from sklearn.ensemble import AdaBoostRegressor"
   ]
  },
  {
   "cell_type": "code",
   "execution_count": 28,
   "id": "830697b1-1f25-4258-97e2-592731163181",
   "metadata": {},
   "outputs": [
    {
     "name": "stdout",
     "output_type": "stream",
     "text": [
      "AdaBoost R^2 Score: 0.3555767002409821\n",
      "MAE: 178362.12873796636, MSE: 48705147011.87188, RMSE: 220692.42626758147\n"
     ]
    }
   ],
   "source": [
    "# Initialize the AdaBoost Regressor model\n",
    "model = AdaBoostRegressor(n_estimators=100, random_state=42)\n",
    "\n",
    "# Train the model\n",
    "model.fit(X_train, y_train)\n",
    "\n",
    "# Make predictions on the test set\n",
    "y_pred = model.predict(X_test)\n",
    "\n",
    "# Evaluate the model\n",
    "#mse = mean_squared_error(y_test, y_pred)\n",
    "r2 = r2_score(y_test, y_pred)\n",
    "\n",
    "#print(f'AdaBoost Mean Squared Error: {mse}')\n",
    "print(f'AdaBoost R^2 Score: {r2}')\n",
    "\n",
    "# Evaluation\n",
    "mae = mean_absolute_error(y_test, y_pred)\n",
    "mse = mean_squared_error(y_test, y_pred)\n",
    "rmse = np.sqrt(mse)\n",
    "print(f'MAE: {mae}, MSE: {mse}, RMSE: {rmse}')"
   ]
  },
  {
   "cell_type": "code",
   "execution_count": 29,
   "id": "8fba65ca-f9b6-43df-9e8d-ce3d8c0e58d5",
   "metadata": {},
   "outputs": [],
   "source": [
    "from xgboost import XGBRegressor"
   ]
  },
  {
   "cell_type": "code",
   "execution_count": 30,
   "id": "76298bf5-e7b7-4e97-8fa1-c9ca60198060",
   "metadata": {},
   "outputs": [
    {
     "name": "stdout",
     "output_type": "stream",
     "text": [
      "XGBoost R^2 Score: 0.6669686618235335\n",
      "MAE: 107835.86760306136, MSE: 25170319402.651665, RMSE: 158651.56602647091\n"
     ]
    }
   ],
   "source": [
    "# Initialize the XGBoost Regressor model\n",
    "model = XGBRegressor(n_estimators=100, random_state=42)\n",
    "\n",
    "# Train the model\n",
    "model.fit(X_train, y_train)\n",
    "\n",
    "# Make predictions on the test set\n",
    "y_pred = model.predict(X_test)\n",
    "\n",
    "# Evaluate the model\n",
    "#mse = mean_squared_error(y_test, y_pred)\n",
    "r2 = r2_score(y_test, y_pred)\n",
    "\n",
    "#print(f'XGBoost Mean Squared Error: {mse}')\n",
    "print(f'XGBoost R^2 Score: {r2}')\n",
    "\n",
    "# Evaluation\n",
    "mae = mean_absolute_error(y_test, y_pred)\n",
    "mse = mean_squared_error(y_test, y_pred)\n",
    "rmse = np.sqrt(mse)\n",
    "print(f'MAE: {mae}, MSE: {mse}, RMSE: {rmse}')"
   ]
  },
  {
   "cell_type": "code",
   "execution_count": 31,
   "id": "43cad225-ca5b-46d8-9977-5dfd8ff7f978",
   "metadata": {},
   "outputs": [],
   "source": [
    "from sklearn.ensemble import BaggingRegressor"
   ]
  },
  {
   "cell_type": "code",
   "execution_count": 32,
   "id": "e8ef6a88-ff30-4cfc-9511-dc3553022156",
   "metadata": {},
   "outputs": [
    {
     "name": "stderr",
     "output_type": "stream",
     "text": [
      "C:\\Users\\lilly\\anaconda3\\Lib\\site-packages\\sklearn\\ensemble\\_base.py:166: FutureWarning: `base_estimator` was renamed to `estimator` in version 1.2 and will be removed in 1.4.\n",
      "  warnings.warn(\n"
     ]
    },
    {
     "name": "stdout",
     "output_type": "stream",
     "text": [
      "BaggingRegressor R^2 Score: 0.6536885713605456\n",
      "MAE: 106575.68731703982, MSE: 26174021097.75279, RMSE: 161783.871562504\n"
     ]
    }
   ],
   "source": [
    "# Initialize the base estimator\n",
    "base_estimator = DecisionTreeRegressor()\n",
    "\n",
    "# Initialize the Bagging Regressor with the base estimator\n",
    "bagging_model = BaggingRegressor(base_estimator=base_estimator, n_estimators=100, random_state=42)\n",
    "\n",
    "# Train the model\n",
    "bagging_model.fit(X_train, y_train)\n",
    "\n",
    "# Prediction\n",
    "y_pred = bagging_model.predict(X_test)\n",
    "\n",
    "r2 = r2_score(y_test, y_pred)\n",
    "\n",
    "print(f'BaggingRegressor R^2 Score: {r2}')\n",
    "# Evaluation\n",
    "mae = mean_absolute_error(y_test, y_pred)\n",
    "mse = mean_squared_error(y_test, y_pred)\n",
    "rmse = np.sqrt(mse)\n",
    "print(f'MAE: {mae}, MSE: {mse}, RMSE: {rmse}')"
   ]
  },
  {
   "cell_type": "code",
   "execution_count": 33,
   "id": "6e6bd96d-88f9-418b-a921-ca46fa88c474",
   "metadata": {},
   "outputs": [],
   "source": [
    "from lightgbm import LGBMRegressor"
   ]
  },
  {
   "cell_type": "code",
   "execution_count": 34,
   "id": "dde1965c-859c-4bdf-acf4-902077acb9ab",
   "metadata": {},
   "outputs": [
    {
     "name": "stdout",
     "output_type": "stream",
     "text": [
      "[LightGBM] [Info] Auto-choosing col-wise multi-threading, the overhead of testing was 0.000964 seconds.\n",
      "You can set `force_col_wise=true` to remove the overhead.\n",
      "[LightGBM] [Info] Total Bins 2166\n",
      "[LightGBM] [Info] Number of data points in the train set: 3213, number of used features: 13\n",
      "[LightGBM] [Info] Start training from score 306567.581151\n",
      "LightGBM R^2 Score: 0.6821861018961378\n",
      "MAE: 103249.72080945445, MSE: 24020193924.32445, RMSE: 154984.4957546543\n"
     ]
    }
   ],
   "source": [
    "# Initialize the LightGBM Regressor model\n",
    "model = LGBMRegressor(random_state=42)\n",
    "\n",
    "# Train the model\n",
    "model.fit(X_train, y_train)\n",
    "\n",
    "# Make predictions on the test set\n",
    "y_pred = model.predict(X_test)\n",
    "\n",
    "# Evaluate the model\n",
    "#mse = mean_squared_error(y_test, y_pred)\n",
    "r2 = r2_score(y_test, y_pred)\n",
    "\n",
    "#print(f'LightGBM Mean Squared Error: {mse}')\n",
    "print(f'LightGBM R^2 Score: {r2}')\n",
    "\n",
    "# Evaluation\n",
    "mae = mean_absolute_error(y_test, y_pred)\n",
    "mse = mean_squared_error(y_test, y_pred)\n",
    "rmse = np.sqrt(mse)\n",
    "print(f'MAE: {mae}, MSE: {mse}, RMSE: {rmse}')"
   ]
  },
  {
   "cell_type": "code",
   "execution_count": 35,
   "id": "3660f424-2412-4b56-a635-47a53af44c21",
   "metadata": {},
   "outputs": [],
   "source": [
    "from catboost import CatBoostRegressor"
   ]
  },
  {
   "cell_type": "code",
   "execution_count": 36,
   "id": "e9373c61-9d90-423a-8678-8d0ec9c7b89e",
   "metadata": {},
   "outputs": [
    {
     "name": "stdout",
     "output_type": "stream",
     "text": [
      "CatBoost R^2 Score: 0.6824861836888003\n",
      "MAE: 101939.92171979112, MSE: 23997513912.85889, RMSE: 154911.3098287497\n"
     ]
    }
   ],
   "source": [
    "# Initialize the CatBoost Regressor model\n",
    "model = CatBoostRegressor(random_state=42, verbose=0)\n",
    "\n",
    "# Train the model\n",
    "model.fit(X_train, y_train)\n",
    "\n",
    "# Make predictions on the test set\n",
    "y_pred = model.predict(X_test)\n",
    "\n",
    "# Evaluate the model\n",
    "#mse = mean_squared_error(y_test, y_pred)\n",
    "r2 = r2_score(y_test, y_pred)\n",
    "\n",
    "#print(f'CatBoost Mean Squared Error: {mse}')\n",
    "print(f'CatBoost R^2 Score: {r2}')\n",
    "\n",
    "\n",
    "# Evaluation\n",
    "mae = mean_absolute_error(y_test, y_pred)\n",
    "mse = mean_squared_error(y_test, y_pred)\n",
    "rmse = np.sqrt(mse)\n",
    "print(f'MAE: {mae}, MSE: {mse}, RMSE: {rmse}')"
   ]
  },
  {
   "cell_type": "code",
   "execution_count": 37,
   "id": "0de75c01-9b0a-4efb-b6d9-0fbf341d00dc",
   "metadata": {},
   "outputs": [],
   "source": [
    "from sklearn.neural_network import MLPRegressor"
   ]
  },
  {
   "cell_type": "code",
   "execution_count": 38,
   "id": "ba7b6b79-846c-4085-af64-2f674cc45041",
   "metadata": {},
   "outputs": [
    {
     "name": "stdout",
     "output_type": "stream",
     "text": [
      "MLPRegressor R^2 Score: 0.21823486130955005\n",
      "MAE: 186184.14995473134, MSE: 59085365198.485664, RMSE: 243074.8139945512\n"
     ]
    }
   ],
   "source": [
    "# Initialize the MLPRegressor model\n",
    "model = MLPRegressor(hidden_layer_sizes=(100,), max_iter=1000, random_state=42)\n",
    "\n",
    "# Train the model\n",
    "model.fit(X_train, y_train)\n",
    "\n",
    "# Make predictions on the test set\n",
    "y_pred = model.predict(X_test)\n",
    "\n",
    "# Evaluate the model\n",
    "#mse = mean_squared_error(y_test, y_pred)\n",
    "r2 = r2_score(y_test, y_pred)\n",
    "\n",
    "#print(f'MLPRegressor Mean Squared Error: {mse}')\n",
    "print(f'MLPRegressor R^2 Score: {r2}')\n",
    "\n",
    "# Evaluation\n",
    "mae = mean_absolute_error(y_test, y_pred)\n",
    "mse = mean_squared_error(y_test, y_pred)\n",
    "rmse = np.sqrt(mse)\n",
    "print(f'MAE: {mae}, MSE: {mse}, RMSE: {rmse}')"
   ]
  },
  {
   "cell_type": "code",
   "execution_count": 39,
   "id": "3e76add8-fe80-400a-9da9-8a518f827c92",
   "metadata": {},
   "outputs": [],
   "source": [
    "from sklearn.linear_model import BayesianRidge"
   ]
  },
  {
   "cell_type": "code",
   "execution_count": 40,
   "id": "d0741c17-ef74-4f10-956a-8ce678eb1f29",
   "metadata": {},
   "outputs": [
    {
     "name": "stdout",
     "output_type": "stream",
     "text": [
      "Bayesian Ridge R^2 Score: 0.4524437136103917\n",
      "MAE: 141116.6426217496, MSE: 41383993154.58224, RMSE: 203430.56101427396\n"
     ]
    }
   ],
   "source": [
    "# Initialize the Bayesian Ridge Regression model\n",
    "model = BayesianRidge()\n",
    "\n",
    "# Train the model\n",
    "model.fit(X_train, y_train)\n",
    "\n",
    "# Make predictions on the test set\n",
    "y_pred = model.predict(X_test)\n",
    "\n",
    "# Evaluate the model\n",
    "#mse = mean_squared_error(y_test, y_pred)\n",
    "r2 = r2_score(y_test, y_pred)\n",
    "\n",
    "#print(f'Bayesian Ridge Mean Squared Error: {mse}')\n",
    "print(f'Bayesian Ridge R^2 Score: {r2}')\n",
    "\n",
    "# Evaluation\n",
    "mae = mean_absolute_error(y_test, y_pred)\n",
    "mse = mean_squared_error(y_test, y_pred)\n",
    "rmse = np.sqrt(mse)\n",
    "print(f'MAE: {mae}, MSE: {mse}, RMSE: {rmse}')"
   ]
  },
  {
   "cell_type": "code",
   "execution_count": 41,
   "id": "b5e678b6-4bbc-495b-a6dc-7a950295a64e",
   "metadata": {},
   "outputs": [
    {
     "name": "stdout",
     "output_type": "stream",
     "text": [
      "Gradient Boosting R^2 Score: 0.6421284785478396\n",
      "MAE: 110027.5686763508, MSE: 27047726347.27477, RMSE: 164461.92978095193\n"
     ]
    }
   ],
   "source": [
    "# Initialize the Gradient Boosting Regressor model\n",
    "model = GradientBoostingRegressor(n_estimators=100, random_state=42)\n",
    "\n",
    "# Train the model\n",
    "model.fit(X_train, y_train)\n",
    "\n",
    "# Make predictions on the test set\n",
    "y_pred = model.predict(X_test)\n",
    "\n",
    "# Evaluate the model\n",
    "#mse = mean_squared_error(y_test, y_pred)\n",
    "r2 = r2_score(y_test, y_pred)\n",
    "\n",
    "#print(f'Gradient Boosting Mean Squared Error: {mse}')\n",
    "print(f'Gradient Boosting R^2 Score: {r2}')\n",
    "\n",
    "# Evaluation\n",
    "mae = mean_absolute_error(y_test, y_pred)\n",
    "mse = mean_squared_error(y_test, y_pred)\n",
    "rmse = np.sqrt(mse)\n",
    "print(f'MAE: {mae}, MSE: {mse}, RMSE: {rmse}')"
   ]
  },
  {
   "cell_type": "code",
   "execution_count": 42,
   "id": "7bb9b3c4-54aa-48ff-b767-9815264a4947",
   "metadata": {},
   "outputs": [],
   "source": [
    "from sklearn.gaussian_process import GaussianProcessRegressor\n",
    "from sklearn.gaussian_process.kernels import RBF, ConstantKernel as C"
   ]
  },
  {
   "cell_type": "code",
   "execution_count": 43,
   "id": "138905fe-fbfb-491c-918d-93595e796da4",
   "metadata": {},
   "outputs": [
    {
     "name": "stdout",
     "output_type": "stream",
     "text": [
      "Gaussian Process Regression R^2 Score: -0.030075209674239822\n",
      "MAE: 185857.48159098046, MSE: 77852499342.01581, RMSE: 279020.6073787666\n"
     ]
    }
   ],
   "source": [
    "kernel = C(1.0, (1e-3, 1e3)) * RBF(1.0, (1e-2, 1e2))\n",
    "# Initialize the Gaussian Process Regression model\n",
    "model = GaussianProcessRegressor(kernel=kernel, random_state=42)\n",
    "\n",
    "# Train the model\n",
    "model.fit(X_train, y_train)\n",
    "\n",
    "# Make predictions on the test set\n",
    "y_pred, y_std = model.predict(X_test, return_std=True)\n",
    "\n",
    "# Evaluate the model\n",
    "#mse = mean_squared_error(y_test, y_pred)\n",
    "r2 = r2_score(y_test, y_pred)\n",
    "\n",
    "#print(f'Gaussian Process Regression Mean Squared Error: {mse}')\n",
    "print(f'Gaussian Process Regression R^2 Score: {r2}')\n",
    "\n",
    "# Evaluation\n",
    "mae = mean_absolute_error(y_test, y_pred)\n",
    "mse = mean_squared_error(y_test, y_pred)\n",
    "rmse = np.sqrt(mse)\n",
    "print(f'MAE: {mae}, MSE: {mse}, RMSE: {rmse}')"
   ]
  },
  {
   "cell_type": "code",
   "execution_count": 44,
   "id": "3ec6bc6a-2c14-401f-8c29-d88ef744b515",
   "metadata": {},
   "outputs": [],
   "source": [
    "model = [\n",
    "    [\"LinearRegression\", 0.4532219861466239, 140880.65100190128, 41325171758.29401, 203285.93595793587],\n",
    "    [\"RandomForest\", 0.6568075649985832, 105962.950519403, 25938289329.943462, 161053.68462082284],\n",
    "    [\"SVR\", -0.08220299442505685, 199342.86233442198, 81792287708.82559, 285993.50990682567],\n",
    "    [\"Gradient Boosting\", 0.6421284785478396, 110027.5686763508, 27047726347.27477, 164461.92978095193],\n",
    "    [\"KNN\", 0.25482918543427935, 171829.718261194, 56319586963.95949, 237317.4813703354],\n",
    "    [\"Decision Tree\", 0.19503474514381514, 155566.224079602, 60838816802.372696, 246655.25902030285],\n",
    "    [\"Ridge\", 0.45322112729856756, 140881.15608379088, 41325236669.54234, 203286.09561291285],\n",
    "    [\"Lasso\", 0.45322422671208573, 140880.6487276604, 41325002417.628876, 203285.51944894865],\n",
    "    [\"Elastic Net\", 0.44948730831589423, 141806.2827279787, 41607436587.72474, 203979.01016458712],\n",
    "    [\"AdaBoost\", 0.3555767002409821, 178362.12873796636, 48705147011.87188, 220692.42626758147],\n",
    "    [\"XGBoost\", 0.6669686618235335, 107835.86760306136, 25170319402.651665, 158651.56602647091],\n",
    "    [\"BaggingRegressor\", 0.6536885713605456, 106575.68731703982, 26174021097.75279, 161783.871562504],\n",
    "    [\"LightGBM\", 0.6821861018961378, 103249.72080945445, 24020193924.32445, 154984.4957546543],\n",
    "    [\"CatBoost\", 0.6824861836888003, 101939.92171979112, 23997513912.85889, 154911.3098287497],\n",
    "    [\"MLPRegressor\", 0.21823486130955005, 186184.14995473134, 59085365198.485664, 243074.8139945512],\n",
    "    [\"Bayesian Ridge\", 0.4524437136103917, 141116.6426217496, 41383993154.58224, 203430.56101427396],\n",
    "    [\"Gaussian Process Regression\", -0.030075209674239822, 185857.48159098046, 77852499342.01581, 279020.6073787666]\n",
    "]\n",
    "\n",
    "model = pd.DataFrame(model, columns=[\"Model\", \"R2 Score\", \"MAE\", \"MSE\", \"RMSE\"])"
   ]
  },
  {
   "cell_type": "code",
   "execution_count": 45,
   "id": "35d080b3-aeaa-46a7-b36b-cd4d2873ac8c",
   "metadata": {},
   "outputs": [
    {
     "data": {
      "text/html": [
       "<div>\n",
       "<style scoped>\n",
       "    .dataframe tbody tr th:only-of-type {\n",
       "        vertical-align: middle;\n",
       "    }\n",
       "\n",
       "    .dataframe tbody tr th {\n",
       "        vertical-align: top;\n",
       "    }\n",
       "\n",
       "    .dataframe thead th {\n",
       "        text-align: right;\n",
       "    }\n",
       "</style>\n",
       "<table border=\"1\" class=\"dataframe\">\n",
       "  <thead>\n",
       "    <tr style=\"text-align: right;\">\n",
       "      <th></th>\n",
       "      <th>Model</th>\n",
       "      <th>R2 Score</th>\n",
       "      <th>MAE</th>\n",
       "      <th>MSE</th>\n",
       "      <th>RMSE</th>\n",
       "    </tr>\n",
       "  </thead>\n",
       "  <tbody>\n",
       "    <tr>\n",
       "      <th>0</th>\n",
       "      <td>LinearRegression</td>\n",
       "      <td>0.453222</td>\n",
       "      <td>140880.651002</td>\n",
       "      <td>4.132517e+10</td>\n",
       "      <td>203285.935958</td>\n",
       "    </tr>\n",
       "    <tr>\n",
       "      <th>1</th>\n",
       "      <td>RandomForest</td>\n",
       "      <td>0.656808</td>\n",
       "      <td>105962.950519</td>\n",
       "      <td>2.593829e+10</td>\n",
       "      <td>161053.684621</td>\n",
       "    </tr>\n",
       "    <tr>\n",
       "      <th>2</th>\n",
       "      <td>SVR</td>\n",
       "      <td>-0.082203</td>\n",
       "      <td>199342.862334</td>\n",
       "      <td>8.179229e+10</td>\n",
       "      <td>285993.509907</td>\n",
       "    </tr>\n",
       "    <tr>\n",
       "      <th>3</th>\n",
       "      <td>Gradient Boosting</td>\n",
       "      <td>0.642128</td>\n",
       "      <td>110027.568676</td>\n",
       "      <td>2.704773e+10</td>\n",
       "      <td>164461.929781</td>\n",
       "    </tr>\n",
       "    <tr>\n",
       "      <th>4</th>\n",
       "      <td>KNN</td>\n",
       "      <td>0.254829</td>\n",
       "      <td>171829.718261</td>\n",
       "      <td>5.631959e+10</td>\n",
       "      <td>237317.481370</td>\n",
       "    </tr>\n",
       "    <tr>\n",
       "      <th>5</th>\n",
       "      <td>Decision Tree</td>\n",
       "      <td>0.195035</td>\n",
       "      <td>155566.224080</td>\n",
       "      <td>6.083882e+10</td>\n",
       "      <td>246655.259020</td>\n",
       "    </tr>\n",
       "    <tr>\n",
       "      <th>6</th>\n",
       "      <td>Ridge</td>\n",
       "      <td>0.453221</td>\n",
       "      <td>140881.156084</td>\n",
       "      <td>4.132524e+10</td>\n",
       "      <td>203286.095613</td>\n",
       "    </tr>\n",
       "    <tr>\n",
       "      <th>7</th>\n",
       "      <td>Lasso</td>\n",
       "      <td>0.453224</td>\n",
       "      <td>140880.648728</td>\n",
       "      <td>4.132500e+10</td>\n",
       "      <td>203285.519449</td>\n",
       "    </tr>\n",
       "    <tr>\n",
       "      <th>8</th>\n",
       "      <td>Elastic Net</td>\n",
       "      <td>0.449487</td>\n",
       "      <td>141806.282728</td>\n",
       "      <td>4.160744e+10</td>\n",
       "      <td>203979.010165</td>\n",
       "    </tr>\n",
       "    <tr>\n",
       "      <th>9</th>\n",
       "      <td>AdaBoost</td>\n",
       "      <td>0.355577</td>\n",
       "      <td>178362.128738</td>\n",
       "      <td>4.870515e+10</td>\n",
       "      <td>220692.426268</td>\n",
       "    </tr>\n",
       "    <tr>\n",
       "      <th>10</th>\n",
       "      <td>XGBoost</td>\n",
       "      <td>0.666969</td>\n",
       "      <td>107835.867603</td>\n",
       "      <td>2.517032e+10</td>\n",
       "      <td>158651.566026</td>\n",
       "    </tr>\n",
       "    <tr>\n",
       "      <th>11</th>\n",
       "      <td>BaggingRegressor</td>\n",
       "      <td>0.653689</td>\n",
       "      <td>106575.687317</td>\n",
       "      <td>2.617402e+10</td>\n",
       "      <td>161783.871563</td>\n",
       "    </tr>\n",
       "    <tr>\n",
       "      <th>12</th>\n",
       "      <td>LightGBM</td>\n",
       "      <td>0.682186</td>\n",
       "      <td>103249.720809</td>\n",
       "      <td>2.402019e+10</td>\n",
       "      <td>154984.495755</td>\n",
       "    </tr>\n",
       "    <tr>\n",
       "      <th>13</th>\n",
       "      <td>CatBoost</td>\n",
       "      <td>0.682486</td>\n",
       "      <td>101939.921720</td>\n",
       "      <td>2.399751e+10</td>\n",
       "      <td>154911.309829</td>\n",
       "    </tr>\n",
       "    <tr>\n",
       "      <th>14</th>\n",
       "      <td>MLPRegressor</td>\n",
       "      <td>0.218235</td>\n",
       "      <td>186184.149955</td>\n",
       "      <td>5.908537e+10</td>\n",
       "      <td>243074.813995</td>\n",
       "    </tr>\n",
       "    <tr>\n",
       "      <th>15</th>\n",
       "      <td>Bayesian Ridge</td>\n",
       "      <td>0.452444</td>\n",
       "      <td>141116.642622</td>\n",
       "      <td>4.138399e+10</td>\n",
       "      <td>203430.561014</td>\n",
       "    </tr>\n",
       "    <tr>\n",
       "      <th>16</th>\n",
       "      <td>Gaussian Process Regression</td>\n",
       "      <td>-0.030075</td>\n",
       "      <td>185857.481591</td>\n",
       "      <td>7.785250e+10</td>\n",
       "      <td>279020.607379</td>\n",
       "    </tr>\n",
       "  </tbody>\n",
       "</table>\n",
       "</div>"
      ],
      "text/plain": [
       "                          Model  R2 Score            MAE           MSE  \\\n",
       "0              LinearRegression  0.453222  140880.651002  4.132517e+10   \n",
       "1                  RandomForest  0.656808  105962.950519  2.593829e+10   \n",
       "2                           SVR -0.082203  199342.862334  8.179229e+10   \n",
       "3             Gradient Boosting  0.642128  110027.568676  2.704773e+10   \n",
       "4                           KNN  0.254829  171829.718261  5.631959e+10   \n",
       "5                 Decision Tree  0.195035  155566.224080  6.083882e+10   \n",
       "6                         Ridge  0.453221  140881.156084  4.132524e+10   \n",
       "7                         Lasso  0.453224  140880.648728  4.132500e+10   \n",
       "8                   Elastic Net  0.449487  141806.282728  4.160744e+10   \n",
       "9                      AdaBoost  0.355577  178362.128738  4.870515e+10   \n",
       "10                      XGBoost  0.666969  107835.867603  2.517032e+10   \n",
       "11             BaggingRegressor  0.653689  106575.687317  2.617402e+10   \n",
       "12                     LightGBM  0.682186  103249.720809  2.402019e+10   \n",
       "13                     CatBoost  0.682486  101939.921720  2.399751e+10   \n",
       "14                 MLPRegressor  0.218235  186184.149955  5.908537e+10   \n",
       "15               Bayesian Ridge  0.452444  141116.642622  4.138399e+10   \n",
       "16  Gaussian Process Regression -0.030075  185857.481591  7.785250e+10   \n",
       "\n",
       "             RMSE  \n",
       "0   203285.935958  \n",
       "1   161053.684621  \n",
       "2   285993.509907  \n",
       "3   164461.929781  \n",
       "4   237317.481370  \n",
       "5   246655.259020  \n",
       "6   203286.095613  \n",
       "7   203285.519449  \n",
       "8   203979.010165  \n",
       "9   220692.426268  \n",
       "10  158651.566026  \n",
       "11  161783.871563  \n",
       "12  154984.495755  \n",
       "13  154911.309829  \n",
       "14  243074.813995  \n",
       "15  203430.561014  \n",
       "16  279020.607379  "
      ]
     },
     "execution_count": 45,
     "metadata": {},
     "output_type": "execute_result"
    }
   ],
   "source": [
    "model"
   ]
  },
  {
   "cell_type": "code",
   "execution_count": 46,
   "id": "ac870e96-ea6f-4d92-9c8c-c68eda4be855",
   "metadata": {},
   "outputs": [],
   "source": [
    "#model.to_csv('data for project/model_days_results.csv', index=False)"
   ]
  },
  {
   "cell_type": "code",
   "execution_count": null,
   "id": "b2a99ac7-12b5-4006-a2d5-cf3c13a59109",
   "metadata": {},
   "outputs": [],
   "source": []
  }
 ],
 "metadata": {
  "kernelspec": {
   "display_name": "Python 3 (ipykernel)",
   "language": "python",
   "name": "python3"
  },
  "language_info": {
   "codemirror_mode": {
    "name": "ipython",
    "version": 3
   },
   "file_extension": ".py",
   "mimetype": "text/x-python",
   "name": "python",
   "nbconvert_exporter": "python",
   "pygments_lexer": "ipython3",
   "version": "3.11.7"
  }
 },
 "nbformat": 4,
 "nbformat_minor": 5
}
